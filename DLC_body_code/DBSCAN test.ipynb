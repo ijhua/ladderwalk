{
 "cells": [
  {
   "cell_type": "code",
   "execution_count": 1,
   "metadata": {},
   "outputs": [],
   "source": [
    "import pandas as pd\n",
    "from sklearn.cluster import DBSCAN\n",
    "import matplotlib.pyplot as plt\n",
    "import numpy as np\n",
    "import os\n",
    "from scipy import stats\n",
    "from sklearn import metrics\n",
    "from statistics import median"
   ]
  },
  {
   "cell_type": "code",
   "execution_count": 3,
   "metadata": {},
   "outputs": [],
   "source": [
    "%run -i '/home/ml/Documents/ladderwalk/functions.py'"
   ]
  },
  {
   "cell_type": "code",
   "execution_count": 7,
   "metadata": {},
   "outputs": [],
   "source": [
    "f = '/home/ml/Documents/Not_TADSS_Videos/MC30/cut/dlc_output_resnet50/MC30_12-04-2019_L4_crossing8_patternA_light2_DLC_resnet50_LadderWalkFeb13shuffle1_450000.h5'"
   ]
  },
  {
   "cell_type": "code",
   "execution_count": 8,
   "metadata": {},
   "outputs": [
    {
     "name": "stderr",
     "output_type": "stream",
     "text": [
      "/home/ml/anaconda3/lib/python3.7/site-packages/pandas/core/indexing.py:671: SettingWithCopyWarning: \n",
      "A value is trying to be set on a copy of a slice from a DataFrame\n",
      "\n",
      "See the caveats in the documentation: https://pandas.pydata.org/pandas-docs/stable/user_guide/indexing.html#returning-a-view-versus-a-copy\n",
      "  self._setitem_with_indexer(indexer, value)\n",
      "/home/ml/Documents/ladderwalk/functions.py:53: SettingWithCopyWarning: \n",
      "A value is trying to be set on a copy of a slice from a DataFrame\n",
      "\n",
      "See the caveats in the documentation: https://pandas.pydata.org/pandas-docs/stable/user_guide/indexing.html#returning-a-view-versus-a-copy\n",
      "  df.loc[df['likelihood']<=threshold] = np.nan\n"
     ]
    }
   ],
   "source": [
    "df = pd.read_hdf(f)\n",
    "name=f.split(\"/\")[8]\n",
    "run = name.split(\"_\")[2]\n",
    "subject = name.split(\"_\")[0]\n",
    "date = name.split(\"_\")[1]\n",
    "crossing=name.split(\"_\")[3][-1]\n",
    "likelihood_threshold = 0.1\n",
    "xheight = 20\n",
    "xdist = 4\n",
    "yheight = 5\n",
    "ydist = 4\n",
    "zero_threshold = 5\n",
    "\n",
    "path = f.split(\".\")[0].split(\"/\")[:-2]+[\"dlc_output_rungs\"]\n",
    "rung_folder = os.path.join(*(path))\n",
    "rung_file= f.split(\".\")[0].split(\"/\")[-1].split(\"_\")[0]+\"_\"+f.split(\".\")[0].split(\"/\")[-1].split(\"_\")[1]+\"_\"+f.split(\".\")[0].split(\"/\")[-1].split(\"_\")[2]+\"_\"+f.split(\".\")[0].split(\"/\")[-1].split(\"_\")[3]+\"_\"+f.split(\".\")[0].split(\"/\")[-1].split(\"_\")[4]+\"_\"+f.split(\".\")[0].split(\"/\")[-1].split(\"_\")[5]\n",
    "#read the file with the rung data\n",
    "rung_df = pd.read_hdf(\"/\"+rung_folder+\"/\"+rung_file+\"_\"+\"DLC_resnet50_LadderWalkMar12shuffle1_350000.h5\")\n",
    "rung_df = rung_df['DLC_resnet50_LadderWalkMar12shuffle1_350000']\n",
    "rung_list = []\n",
    "for i in range(1,63):\n",
    "    rung_list.append(\"rung_\"+str(i))\n",
    "for rung in rung_list:\n",
    "    rung_df[rung]=likelihood_filter(rung_df[rung],0.8)\n",
    "rung_mean = rung_df.agg([\"mean\",\"sem\"])\n",
    "rung_x = np.empty(shape=(63,1))\n",
    "rung_y = np.empty(shape=(63,1))\n",
    "for rung in rung_list:\n",
    "    num = int(rung.split(\"_\")[-1])\n",
    "    rung_x[num]=rung_mean[rung][\"x\"][\"mean\"]\n",
    "    rung_y[num]=rung_mean[rung][\"y\"][\"mean\"]\n",
    "\n",
    "rung_x = rung_x[~np.isnan(rung_x)]\n",
    "rung_y = rung_y[~np.isnan(rung_y)]\n",
    "rung_x = rung_x[not_outliers(rung_y)]\n",
    "rung_y = rung_y[not_outliers(rung_y)]"
   ]
  },
  {
   "cell_type": "code",
   "execution_count": 10,
   "metadata": {},
   "outputs": [],
   "source": [
    "front = extract_limbs(df,'DLC_resnet50_LadderWalkFeb13shuffle1_450000','left fingers')"
   ]
  },
  {
   "cell_type": "code",
   "execution_count": 11,
   "metadata": {},
   "outputs": [],
   "source": [
    "front = likelihood_filter(front,0.1)"
   ]
  },
  {
   "cell_type": "code",
   "execution_count": 32,
   "metadata": {},
   "outputs": [],
   "source": [
    "db = DBSCAN(eps=5, min_samples = 3).fit(front)"
   ]
  },
  {
   "cell_type": "code",
   "execution_count": 33,
   "metadata": {},
   "outputs": [],
   "source": [
    "core_samples_mask = np.zeros_like(db.labels_, dtype=bool)\n",
    "core_samples_mask[db.core_sample_indices_] = True\n",
    "labels = db.labels_"
   ]
  },
  {
   "cell_type": "code",
   "execution_count": 34,
   "metadata": {},
   "outputs": [],
   "source": [
    "n_clusters_ = len(set(labels)) - (1 if -1 in labels else 0)\n",
    "n_noise_ = list(labels).count(-1)"
   ]
  },
  {
   "cell_type": "code",
   "execution_count": 35,
   "metadata": {},
   "outputs": [
    {
     "name": "stdout",
     "output_type": "stream",
     "text": [
      "Estimated number of clusters: 7\n",
      "Estimated number of noise points: 20\n"
     ]
    }
   ],
   "source": [
    "print('Estimated number of clusters: %d' % n_clusters_)\n",
    "print('Estimated number of noise points: %d' % n_noise_)"
   ]
  },
  {
   "cell_type": "code",
   "execution_count": 16,
   "metadata": {},
   "outputs": [
    {
     "data": {
      "image/png": "[encoded data removed]",
      "text/plain": [
       "<Figure size 432x288 with 1 Axes>"
      ]
     },
     "metadata": {
      "needs_background": "light"
     },
     "output_type": "display_data"
    }
   ],
   "source": [
    "unique_labels = set(labels)\n",
    "colors = [plt.cm.Spectral(each)\n",
    "          for each in np.linspace(0, 1, len(unique_labels))]\n",
    "for k, col in zip(unique_labels, colors):\n",
    "    if k == -1:\n",
    "        # Black used for noise.\n",
    "        col = [0, 0, 0, 1]\n",
    "\n",
    "    class_member_mask = (labels == k)\n",
    "\n",
    "    xy = front[class_member_mask & core_samples_mask]\n",
    "    plt.plot(xy['x'], xy['y'], 'o', markerfacecolor=tuple(col),\n",
    "             markeredgecolor='k', markersize=14)\n",
    "\n",
    "    xy = front[class_member_mask & ~core_samples_mask]\n",
    "    plt.plot(xy['x'], xy['y'], 'o', markerfacecolor=tuple(col),\n",
    "             markeredgecolor='k', markersize=6)\n",
    "plt.gca().invert_yaxis()\n",
    "\n",
    "plt.title('Estimated number of clusters: %d' % n_clusters_)\n",
    "plt.show()"
   ]
  },
  {
   "cell_type": "code",
   "execution_count": 17,
   "metadata": {},
   "outputs": [
    {
     "data": {
      "text/plain": [
       "[6.0, 21, 34, 52.0, 76.0, 98]"
      ]
     },
     "execution_count": 17,
     "metadata": {},
     "output_type": "execute_result"
    }
   ],
   "source": [
    "cluster_center = []\n",
    "for k in unique_labels:\n",
    "    class_member_mask = (labels == k)\n",
    "    if len(front[class_member_mask & core_samples_mask].index)>1:\n",
    "        center = round(median(list(front[class_member_mask & core_samples_mask].index)),0)\n",
    "        cluster_center.append(center)\n",
    "    else:\n",
    "        continue\n",
    "cluster_center "
   ]
  },
  {
   "cell_type": "code",
   "execution_count": 258,
   "metadata": {},
   "outputs": [
    {
     "data": {
      "text/plain": [
       "[8.0, 21, 33, 40, 52.0, 77, 98]"
      ]
     },
     "execution_count": 258,
     "metadata": {},
     "output_type": "execute_result"
    }
   ],
   "source": [
    "cluster_center = []\n",
    "for k in unique_labels:\n",
    "    class_member_mask = (labels == k)\n",
    "    if len(front[class_member_mask & core_samples_mask].index)>1:\n",
    "        center = round(median(list(front[class_member_mask & core_samples_mask].index)),0)\n",
    "        cluster_center.append(center)\n",
    "    else:\n",
    "        continue\n",
    "cluster_center "
   ]
  },
  {
   "cell_type": "code",
   "execution_count": 27,
   "metadata": {},
   "outputs": [
    {
     "data": {
      "text/plain": [
       "[-17.06477314405413,\n",
       " -14.506024878274275,\n",
       " -12.110760197462469,\n",
       " -12.650499381370082,\n",
       " -12.574833590462731,\n",
       " -11.307430743240388]"
      ]
     },
     "execution_count": 27,
     "metadata": {},
     "output_type": "execute_result"
    }
   ],
   "source": [
    "cluster_y = []\n",
    "for k in unique_labels:\n",
    "    class_member_mask = (labels == k)\n",
    "    if len(front[class_member_mask & core_samples_mask].index)>1:\n",
    "        center_y = median(list(front['y'][class_member_mask & core_samples_mask]))\n",
    "        cluster_y.append(center_y)\n",
    "    else:\n",
    "        continue\n",
    "[x for x in cluster_y if x >0]"
   ]
  },
  {
   "cell_type": "code",
   "execution_count": 21,
   "metadata": {},
   "outputs": [
    {
     "data": {
      "text/html": [
       "<div>\n",
       "<style scoped>\n",
       "    .dataframe tbody tr th:only-of-type {\n",
       "        vertical-align: middle;\n",
       "    }\n",
       "\n",
       "    .dataframe tbody tr th {\n",
       "        vertical-align: top;\n",
       "    }\n",
       "\n",
       "    .dataframe thead th {\n",
       "        text-align: right;\n",
       "    }\n",
       "</style>\n",
       "<table border=\"1\" class=\"dataframe\">\n",
       "  <thead>\n",
       "    <tr style=\"text-align: right;\">\n",
       "      <th></th>\n",
       "      <th>x</th>\n",
       "      <th>y</th>\n",
       "      <th>likelihood</th>\n",
       "    </tr>\n",
       "  </thead>\n",
       "  <tbody>\n",
       "    <tr>\n",
       "      <th>0</th>\n",
       "      <td>1347.072266</td>\n",
       "      <td>-14.535125</td>\n",
       "      <td>0.997783</td>\n",
       "    </tr>\n",
       "    <tr>\n",
       "      <th>1</th>\n",
       "      <td>1240.979004</td>\n",
       "      <td>-31.262614</td>\n",
       "      <td>0.917808</td>\n",
       "    </tr>\n",
       "    <tr>\n",
       "      <th>2</th>\n",
       "      <td>1226.119507</td>\n",
       "      <td>-16.187799</td>\n",
       "      <td>0.973392</td>\n",
       "    </tr>\n",
       "    <tr>\n",
       "      <th>3</th>\n",
       "      <td>1230.784912</td>\n",
       "      <td>-16.877798</td>\n",
       "      <td>0.989038</td>\n",
       "    </tr>\n",
       "    <tr>\n",
       "      <th>4</th>\n",
       "      <td>1228.861694</td>\n",
       "      <td>-18.283430</td>\n",
       "      <td>0.977122</td>\n",
       "    </tr>\n",
       "    <tr>\n",
       "      <th>...</th>\n",
       "      <td>...</td>\n",
       "      <td>...</td>\n",
       "      <td>...</td>\n",
       "    </tr>\n",
       "    <tr>\n",
       "      <th>97</th>\n",
       "      <td>261.656982</td>\n",
       "      <td>-11.118345</td>\n",
       "      <td>0.998047</td>\n",
       "    </tr>\n",
       "    <tr>\n",
       "      <th>98</th>\n",
       "      <td>261.029602</td>\n",
       "      <td>-11.651563</td>\n",
       "      <td>0.997018</td>\n",
       "    </tr>\n",
       "    <tr>\n",
       "      <th>99</th>\n",
       "      <td>261.554749</td>\n",
       "      <td>-10.370472</td>\n",
       "      <td>0.996413</td>\n",
       "    </tr>\n",
       "    <tr>\n",
       "      <th>100</th>\n",
       "      <td>262.452881</td>\n",
       "      <td>-10.309792</td>\n",
       "      <td>0.991030</td>\n",
       "    </tr>\n",
       "    <tr>\n",
       "      <th>101</th>\n",
       "      <td>257.551666</td>\n",
       "      <td>-13.920331</td>\n",
       "      <td>0.867162</td>\n",
       "    </tr>\n",
       "  </tbody>\n",
       "</table>\n",
       "<p>102 rows × 3 columns</p>\n",
       "</div>"
      ],
      "text/plain": [
       "               x          y  likelihood\n",
       "0    1347.072266 -14.535125    0.997783\n",
       "1    1240.979004 -31.262614    0.917808\n",
       "2    1226.119507 -16.187799    0.973392\n",
       "3    1230.784912 -16.877798    0.989038\n",
       "4    1228.861694 -18.283430    0.977122\n",
       "..           ...        ...         ...\n",
       "97    261.656982 -11.118345    0.998047\n",
       "98    261.029602 -11.651563    0.997018\n",
       "99    261.554749 -10.370472    0.996413\n",
       "100   262.452881 -10.309792    0.991030\n",
       "101   257.551666 -13.920331    0.867162\n",
       "\n",
       "[102 rows x 3 columns]"
      ]
     },
     "execution_count": 21,
     "metadata": {},
     "output_type": "execute_result"
    }
   ],
   "source": [
    "front"
   ]
  },
  {
   "cell_type": "code",
   "execution_count": 259,
   "metadata": {},
   "outputs": [
    {
     "name": "stdout",
     "output_type": "stream",
     "text": [
      "7.5\n",
      "21\n",
      "33\n",
      "40\n",
      "51.5\n",
      "77\n",
      "98\n"
     ]
    }
   ],
   "source": [
    "for k in unique_labels:\n",
    "    class_member_mask = (labels == k)\n",
    "    if len(front[class_member_mask & core_samples_mask].index)>1:\n",
    "        print(median(front[class_member_mask & core_samples_mask].index))"
   ]
  },
  {
   "cell_type": "code",
   "execution_count": 271,
   "metadata": {},
   "outputs": [
    {
     "data": {
      "image/png": "[encoded data removed]",
      "text/plain": [
       "<Figure size 432x288 with 1 Axes>"
      ]
     },
     "metadata": {
      "needs_background": "light"
     },
     "output_type": "display_data"
    }
   ],
   "source": [
    "plt.plot(front['x'],front['y'],marker='o',alpha=0.75)\n",
    "plt.plot(front['x'][cluster_center],front['y'][cluster_center],color='k',markersize=12,marker='o',lw=0)\n",
    "plt.gca().invert_yaxis()"
   ]
  },
  {
   "cell_type": "code",
   "execution_count": null,
   "metadata": {},
   "outputs": [],
   "source": []
  }
 ],
 "metadata": {
  "kernelspec": {
   "display_name": "Python 3",
   "language": "python",
   "name": "python3"
  },
  "language_info": {
   "codemirror_mode": {
    "name": "ipython",
    "version": 3
   },
   "file_extension": ".py",
   "mimetype": "text/x-python",
   "name": "python",
   "nbconvert_exporter": "python",
   "pygments_lexer": "ipython3",
   "version": "3.7.7"
  }
 },
 "nbformat": 4,
 "nbformat_minor": 2
}
