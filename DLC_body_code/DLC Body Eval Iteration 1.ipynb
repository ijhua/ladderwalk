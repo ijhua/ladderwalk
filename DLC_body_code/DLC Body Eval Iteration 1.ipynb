{
 "cells": [
  {
   "cell_type": "code",
   "execution_count": 1,
   "metadata": {},
   "outputs": [],
   "source": [
    "#must deactivate dlc-ubuntu-GPU environment before running this. installing seaborn on that env somehow makes dlc not work\n",
    "import h5py\n",
    "import pandas as pd\n",
    "import matplotlib\n",
    "import matplotlib.pyplot as plt\n",
    "import numpy as np\n",
    "#import seaborn as sns"
   ]
  },
  {
   "cell_type": "code",
   "execution_count": 2,
   "metadata": {},
   "outputs": [],
   "source": [
    "predictions = '/home/ml/Documents/DLC_Body/LadderWalk-Isabelle-2020-02-13/evaluation-results/iteration-1/LadderWalkFeb13-trainset95shuffle1/DLC_resnet101_LadderWalkFeb13shuffle1_1030000-snapshot-1030000.h5'\n",
    "predict_df = pd.read_hdf(predictions)"
   ]
  },
  {
   "cell_type": "code",
   "execution_count": 3,
   "metadata": {},
   "outputs": [],
   "source": [
    "labels = \"/home/ml/Documents/DLC_Body/LadderWalk-Isabelle-2020-02-13/training-datasets/iteration-1/UnaugmentedDataSet_LadderWalkFeb13/CollectedData_Isabelle.h5\"\n",
    "label_df = pd.read_hdf(labels)"
   ]
  },
  {
   "cell_type": "code",
   "execution_count": 4,
   "metadata": {},
   "outputs": [],
   "source": [
    "compare_df = label_df.merge(predict_df, left_index=True, right_index=True)"
   ]
  },
  {
   "cell_type": "code",
   "execution_count": 5,
   "metadata": {},
   "outputs": [],
   "source": [
    "coords = compare_df.loc[:, compare_df.columns.get_level_values(2)!='likelihood']"
   ]
  },
  {
   "cell_type": "code",
   "execution_count": 6,
   "metadata": {},
   "outputs": [],
   "source": [
    "dist = pd.DataFrame()\n",
    "dist[\"nose\"] = np.sqrt((coords[\"Isabelle\"][\"nose\"][\"x\"]-coords[\"DLC_resnet101_LadderWalkFeb13shuffle1_1030000\"][\"nose\"][\"x\"])**2+(coords[\"Isabelle\"][\"nose\"][\"y\"]-coords[\"DLC_resnet101_LadderWalkFeb13shuffle1_1030000\"][\"nose\"][\"y\"])**2)"
   ]
  },
  {
   "cell_type": "code",
   "execution_count": 7,
   "metadata": {},
   "outputs": [],
   "source": [
    "dist[\"right eye\"] = np.sqrt((coords[\"Isabelle\"][\"right eye\"][\"x\"]-coords[\"DLC_resnet101_LadderWalkFeb13shuffle1_1030000\"][\"right eye\"][\"x\"])**2+(coords[\"Isabelle\"][\"right eye\"][\"y\"]-coords[\"DLC_resnet101_LadderWalkFeb13shuffle1_1030000\"][\"right eye\"][\"y\"])**2)"
   ]
  },
  {
   "cell_type": "code",
   "execution_count": 8,
   "metadata": {},
   "outputs": [],
   "source": [
    "dist[\"left eye\"] = np.sqrt((coords[\"Isabelle\"][\"left eye\"][\"x\"]-coords[\"DLC_resnet101_LadderWalkFeb13shuffle1_1030000\"][\"left eye\"][\"x\"])**2+(coords[\"Isabelle\"][\"left eye\"][\"y\"]-coords[\"DLC_resnet101_LadderWalkFeb13shuffle1_1030000\"][\"left eye\"][\"y\"])**2)"
   ]
  },
  {
   "cell_type": "code",
   "execution_count": 9,
   "metadata": {},
   "outputs": [],
   "source": [
    "dist[\"shoulder\"] = np.sqrt((coords[\"Isabelle\"][\"shoulder\"][\"x\"]-coords[\"DLC_resnet101_LadderWalkFeb13shuffle1_1030000\"][\"shoulder\"][\"x\"])**2+(coords[\"Isabelle\"][\"shoulder\"][\"y\"]-coords[\"DLC_resnet101_LadderWalkFeb13shuffle1_1030000\"][\"shoulder\"][\"y\"])**2)"
   ]
  },
  {
   "cell_type": "code",
   "execution_count": 10,
   "metadata": {},
   "outputs": [],
   "source": [
    "dist[\"right elbow\"] = np.sqrt((coords[\"Isabelle\"][\"right elbow\"][\"x\"]-coords[\"DLC_resnet101_LadderWalkFeb13shuffle1_1030000\"][\"right elbow\"][\"x\"])**2+(coords[\"Isabelle\"][\"right elbow\"][\"y\"]-coords[\"DLC_resnet101_LadderWalkFeb13shuffle1_1030000\"][\"right elbow\"][\"y\"])**2)\n",
    "dist[\"right wrist\"] = np.sqrt((coords[\"Isabelle\"][\"right wrist\"][\"x\"]-coords[\"DLC_resnet101_LadderWalkFeb13shuffle1_1030000\"][\"right wrist\"][\"x\"])**2+(coords[\"Isabelle\"][\"right wrist\"][\"y\"]-coords[\"DLC_resnet101_LadderWalkFeb13shuffle1_1030000\"][\"right wrist\"][\"y\"])**2)\n",
    "dist[\"right fingers\"] = np.sqrt((coords[\"Isabelle\"][\"right fingers\"][\"x\"]-coords[\"DLC_resnet101_LadderWalkFeb13shuffle1_1030000\"][\"right fingers\"][\"x\"])**2+(coords[\"Isabelle\"][\"right fingers\"][\"y\"]-coords[\"DLC_resnet101_LadderWalkFeb13shuffle1_1030000\"][\"right fingers\"][\"y\"])**2)"
   ]
  },
  {
   "cell_type": "code",
   "execution_count": 11,
   "metadata": {},
   "outputs": [],
   "source": [
    "dist[\"left elbow\"] = np.sqrt((coords[\"Isabelle\"][\"left elbow\"][\"x\"]-coords[\"DLC_resnet101_LadderWalkFeb13shuffle1_1030000\"][\"left elbow\"][\"x\"])**2+(coords[\"Isabelle\"][\"left elbow\"][\"y\"]-coords[\"DLC_resnet101_LadderWalkFeb13shuffle1_1030000\"][\"left elbow\"][\"y\"])**2)\n",
    "dist[\"left wrist\"] = np.sqrt((coords[\"Isabelle\"][\"left wrist\"][\"x\"]-coords[\"DLC_resnet101_LadderWalkFeb13shuffle1_1030000\"][\"left wrist\"][\"x\"])**2+(coords[\"Isabelle\"][\"left wrist\"][\"y\"]-coords[\"DLC_resnet101_LadderWalkFeb13shuffle1_1030000\"][\"left wrist\"][\"y\"])**2)\n",
    "dist[\"left fingers\"] = np.sqrt((coords[\"Isabelle\"][\"left fingers\"][\"x\"]-coords[\"DLC_resnet101_LadderWalkFeb13shuffle1_1030000\"][\"left fingers\"][\"x\"])**2+(coords[\"Isabelle\"][\"left fingers\"][\"y\"]-coords[\"DLC_resnet101_LadderWalkFeb13shuffle1_1030000\"][\"left fingers\"][\"y\"])**2)"
   ]
  },
  {
   "cell_type": "code",
   "execution_count": 12,
   "metadata": {},
   "outputs": [],
   "source": [
    "dist[\"hip\"] = np.sqrt((coords[\"Isabelle\"][\"hip\"][\"x\"]-coords[\"DLC_resnet101_LadderWalkFeb13shuffle1_1030000\"][\"hip\"][\"x\"])**2+(coords[\"Isabelle\"][\"hip\"][\"y\"]-coords[\"DLC_resnet101_LadderWalkFeb13shuffle1_1030000\"][\"hip\"][\"y\"])**2)"
   ]
  },
  {
   "cell_type": "code",
   "execution_count": 13,
   "metadata": {},
   "outputs": [],
   "source": [
    "dist[\"right ankle\"] = np.sqrt((coords[\"Isabelle\"][\"right ankle\"][\"x\"]-coords[\"DLC_resnet101_LadderWalkFeb13shuffle1_1030000\"][\"right ankle\"][\"x\"])**2+(coords[\"Isabelle\"][\"right ankle\"][\"y\"]-coords[\"DLC_resnet101_LadderWalkFeb13shuffle1_1030000\"][\"right ankle\"][\"y\"])**2)\n",
    "dist[\"right toes\"] = np.sqrt((coords[\"Isabelle\"][\"right toes\"][\"x\"]-coords[\"DLC_resnet101_LadderWalkFeb13shuffle1_1030000\"][\"right toes\"][\"x\"])**2+(coords[\"Isabelle\"][\"right toes\"][\"y\"]-coords[\"DLC_resnet101_LadderWalkFeb13shuffle1_1030000\"][\"right toes\"][\"y\"])**2)"
   ]
  },
  {
   "cell_type": "code",
   "execution_count": 14,
   "metadata": {},
   "outputs": [],
   "source": [
    "dist[\"left ankle\"] = np.sqrt((coords[\"Isabelle\"][\"left ankle\"][\"x\"]-coords[\"DLC_resnet101_LadderWalkFeb13shuffle1_1030000\"][\"left ankle\"][\"x\"])**2+(coords[\"Isabelle\"][\"left ankle\"][\"y\"]-coords[\"DLC_resnet101_LadderWalkFeb13shuffle1_1030000\"][\"left ankle\"][\"y\"])**2)\n",
    "dist[\"left toes\"] = np.sqrt((coords[\"Isabelle\"][\"left toes\"][\"x\"]-coords[\"DLC_resnet101_LadderWalkFeb13shuffle1_1030000\"][\"left toes\"][\"x\"])**2+(coords[\"Isabelle\"][\"left toes\"][\"y\"]-coords[\"DLC_resnet101_LadderWalkFeb13shuffle1_1030000\"][\"left toes\"][\"y\"])**2)"
   ]
  },
  {
   "cell_type": "code",
   "execution_count": 15,
   "metadata": {},
   "outputs": [],
   "source": [
    "dist[\"base of tail\"] = np.sqrt((coords[\"Isabelle\"][\"base of tail\"][\"x\"]-coords[\"DLC_resnet101_LadderWalkFeb13shuffle1_1030000\"][\"base of tail\"][\"x\"])**2+(coords[\"Isabelle\"][\"base of tail\"][\"y\"]-coords[\"DLC_resnet101_LadderWalkFeb13shuffle1_1030000\"][\"base of tail\"][\"y\"])**2)"
   ]
  },
  {
   "cell_type": "code",
   "execution_count": 19,
   "metadata": {},
   "outputs": [
    {
     "data": {
      "image/png": "[encoded data removed]",
      "text/plain": [
       "<Figure size 720x720 with 16 Axes>"
      ]
     },
     "metadata": {
      "needs_background": "light"
     },
     "output_type": "display_data"
    }
   ],
   "source": [
    "plt.close()\n",
    "\n",
    "#plt.style.use('seaborn-poster')\n",
    "#plt.rcParams.update({'font.size':18})\n",
    "\n",
    "fig, axes = plt.subplots(nrows=4, ncols=4)\n",
    "#fig.suptitle(\"All Image Pixel Distance\")\n",
    "#fig.add_subplot(111,frameon=False)\n",
    "#plt.grid(False)\n",
    "#plt.tick_params(labelcolor='none',top='off',bottom='off',left='off',right='off')\n",
    "#plt.xlabel(\"Euclidean Distance (pixels)\")\n",
    "#plt.ylabel(\"Number of Frames\")\n",
    "\n",
    "ax0, ax1, ax2, ax3, ax4, ax5, ax6, ax7, ax8, ax9, ax10, ax11, ax12, ax13, ax14, ax15 = axes.flatten()\n",
    "\n",
    "y=100\n",
    "\n",
    "ax0.hist(dist[\"nose\"].dropna())\n",
    "ax0.set_title(\"Nose\")\n",
    "#ax0.set_xlim((0,y))\n",
    "\n",
    "ax1.hist(dist[\"right eye\"].dropna())\n",
    "ax1.set_title(\"Right Eye\")\n",
    "#ax1.set_xlim((0,y))\n",
    "\n",
    "ax2.hist(dist[\"left eye\"].dropna())\n",
    "ax2.set_title(\"Left Eye\")\n",
    "#ax2.set_xlim((0,y))\n",
    "\n",
    "ax3.hist(dist[\"shoulder\"].dropna())\n",
    "ax3.set_title(\"Shoulder\")\n",
    "#ax3.set_xlim((0,y))\n",
    "\n",
    "ax4.hist(dist[\"right elbow\"].dropna())\n",
    "ax4.set_title(\"Right Elbow\")\n",
    "#ax4.set_xlim((0,y))\n",
    "\n",
    "ax5.hist(dist[\"right wrist\"].dropna())\n",
    "ax5.set_title(\"Right Wrist\")\n",
    "#ax5.set_xlim((0,y))\n",
    "\n",
    "ax6.hist(dist[\"right fingers\"].dropna())\n",
    "ax6.set_title(\"Right Fingers\")\n",
    "#ax6.set_xlim((0,y))\n",
    "\n",
    "ax7.hist(dist[\"left elbow\"].dropna())\n",
    "ax7.set_title(\"Left Elbow\")\n",
    "#ax7.set_xlim((0,y))\n",
    "\n",
    "ax8.hist(dist[\"left wrist\"].dropna())\n",
    "ax8.set_title(\"Left Wrist\")\n",
    "#ax8.set_xlim((0,y))\n",
    "\n",
    "ax9.hist(dist[\"left fingers\"].dropna())\n",
    "ax9.set_title(\"Left Fingers\")\n",
    "#ax9.set_xlim((0,y))\n",
    "\n",
    "ax10.hist(dist[\"hip\"].dropna())\n",
    "ax10.set_title(\"Hip\")\n",
    "#ax10.set_xlim((0,y))\n",
    "\n",
    "ax11.hist(dist[\"right ankle\"].dropna())\n",
    "ax11.set_title(\"Right Ankle\")\n",
    "#ax11.set_xlim((0,y))\n",
    "\n",
    "ax12.hist(dist[\"right toes\"].dropna())\n",
    "ax12.set_title(\"Right Toes\")\n",
    "#ax12.set_xlim((0,y))\n",
    "\n",
    "ax13.hist(dist[\"left ankle\"].dropna())\n",
    "ax13.set_title(\"Left Ankle\")\n",
    "#ax13.set_xlim((0,y))\n",
    "\n",
    "ax14.hist(dist[\"left toes\"].dropna())\n",
    "ax14.set_title(\"Left Toes\")\n",
    "#ax14.set_xlim((0,y))\n",
    "\n",
    "ax15.hist(dist[\"base of tail\"].dropna())\n",
    "ax15.set_title(\"Tail\")\n",
    "#ax15.set_xlim((0,y))\n",
    "\n",
    "plt.rcParams['figure.figsize'] = 10, 10\n",
    "plt.tight_layout()\n",
    "#plt.savefig(\"\")\n",
    "plt.show()\n"
   ]
  },
  {
   "cell_type": "code",
   "execution_count": null,
   "metadata": {},
   "outputs": [],
   "source": []
  }
 ],
 "metadata": {
  "kernelspec": {
   "display_name": "Python 3",
   "language": "python",
   "name": "python3"
  },
  "language_info": {
   "codemirror_mode": {
    "name": "ipython",
    "version": 3
   },
   "file_extension": ".py",
   "mimetype": "text/x-python",
   "name": "python",
   "nbconvert_exporter": "python",
   "pygments_lexer": "ipython3",
   "version": "3.6.8"
  }
 },
 "nbformat": 4,
 "nbformat_minor": 2
}
