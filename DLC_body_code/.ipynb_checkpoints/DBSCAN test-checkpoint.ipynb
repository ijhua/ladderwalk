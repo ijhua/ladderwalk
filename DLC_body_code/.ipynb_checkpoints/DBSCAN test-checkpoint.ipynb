{
 "cells": [
  {
   "cell_type": "code",
   "execution_count": 1,
   "metadata": {},
   "outputs": [],
   "source": [
    "import pandas as pd\n",
    "from sklearn.cluster import DBSCAN\n",
    "import matplotlib.pyplot as plt\n",
    "import numpy as np\n",
    "import os\n",
    "from scipy import stats"
   ]
  },
  {
   "cell_type": "code",
   "execution_count": 2,
   "metadata": {},
   "outputs": [],
   "source": [
    "%run -i '/home/ml/Documents/functions.py'"
   ]
  },
  {
   "cell_type": "code",
   "execution_count": 3,
   "metadata": {},
   "outputs": [],
   "source": [
    "f = '/home/ml/Documents/Not_TADSS_Videos/MC45/cut/dlc_output_16-810/MC45_9-20-19_L2_crossing4_patternB_light2_DLC_resnet101_LadderWalkFeb13shuffle1_1030000.h5'"
   ]
  },
  {
   "cell_type": "code",
   "execution_count": 4,
   "metadata": {},
   "outputs": [
    {
     "name": "stderr",
     "output_type": "stream",
     "text": [
      "/home/ml/anaconda3/lib/python3.7/site-packages/pandas/core/indexing.py:671: SettingWithCopyWarning: \n",
      "A value is trying to be set on a copy of a slice from a DataFrame\n",
      "\n",
      "See the caveats in the documentation: https://pandas.pydata.org/pandas-docs/stable/user_guide/indexing.html#returning-a-view-versus-a-copy\n",
      "  self._setitem_with_indexer(indexer, value)\n",
      "/home/ml/Documents/functions.py:15: SettingWithCopyWarning: \n",
      "A value is trying to be set on a copy of a slice from a DataFrame\n",
      "\n",
      "See the caveats in the documentation: https://pandas.pydata.org/pandas-docs/stable/user_guide/indexing.html#returning-a-view-versus-a-copy\n",
      "  df.loc[df['likelihood']<=threshold] = np.nan\n"
     ]
    }
   ],
   "source": [
    "df = pd.read_hdf(f)\n",
    "name=f.split(\"/\")[8]\n",
    "run = name.split(\"_\")[2]\n",
    "subject = name.split(\"_\")[0]\n",
    "date = name.split(\"_\")[1]\n",
    "crossing=name.split(\"_\")[3][-1]\n",
    "likelihood_threshold = 0.1\n",
    "xheight = 20\n",
    "xdist = 4\n",
    "yheight = 5\n",
    "ydist = 4\n",
    "zero_threshold = 5\n",
    "\n",
    "path = f.split(\".\")[0].split(\"/\")[:-2]+[\"dlc_output_rungs\"]\n",
    "rung_folder = os.path.join(*(path))\n",
    "rung_file= f.split(\".\")[0].split(\"/\")[-1].split(\"_\")[0]+\"_\"+f.split(\".\")[0].split(\"/\")[-1].split(\"_\")[1]+\"_\"+f.split(\".\")[0].split(\"/\")[-1].split(\"_\")[2]+\"_\"+f.split(\".\")[0].split(\"/\")[-1].split(\"_\")[3]+\"_\"+f.split(\".\")[0].split(\"/\")[-1].split(\"_\")[4]+\"_\"+f.split(\".\")[0].split(\"/\")[-1].split(\"_\")[5]\n",
    "rung_df = pd.read_hdf(\"/\"+rung_folder+\"/\"+rung_file+\"_\"+\"DLC_resnet50_LadderWalkMar12shuffle1_350000.h5\")\n",
    "rung_df = rung_df['DLC_resnet50_LadderWalkMar12shuffle1_350000']\n",
    "rung_list = []\n",
    "for i in range(1,63):\n",
    "    rung_list.append(\"rung_\"+str(i))\n",
    "for rung in rung_list:\n",
    "    rung_df[rung]=likelihood_filter(rung_df[rung],0.8)\n",
    "rung_mean = rung_df.agg([\"mean\",\"sem\"])\n",
    "rung_x = np.empty(shape=(63,1))\n",
    "rung_y = np.empty(shape=(63,1))\n",
    "for rung in rung_list:\n",
    "    num = int(rung.split(\"_\")[-1])\n",
    "    rung_x[num]=rung_mean[rung][\"x\"][\"mean\"]\n",
    "    rung_y[num]=rung_mean[rung][\"y\"][\"mean\"]\n",
    "\n",
    "rung_x = rung_x[~np.isnan(rung_x)]\n",
    "rung_y = rung_y[~np.isnan(rung_y)]\n",
    "rung_x = rung_x[not_outliers(rung_y)]\n",
    "rung_y = rung_y[not_outliers(rung_y)]"
   ]
  },
  {
   "cell_type": "code",
   "execution_count": 5,
   "metadata": {},
   "outputs": [],
   "source": [
    "front = extract_limbs(df,'DLC_resnet101_LadderWalkFeb13shuffle1_1030000','left fingers')"
   ]
  },
  {
   "cell_type": "code",
   "execution_count": 6,
   "metadata": {},
   "outputs": [],
   "source": [
    "front = likelihood_filter(front,0.1)"
   ]
  },
  {
   "cell_type": "code",
   "execution_count": 8,
   "metadata": {
    "scrolled": true
   },
   "outputs": [
    {
     "data": {
      "text/html": [
       "<div>\n",
       "<style scoped>\n",
       "    .dataframe tbody tr th:only-of-type {\n",
       "        vertical-align: middle;\n",
       "    }\n",
       "\n",
       "    .dataframe tbody tr th {\n",
       "        vertical-align: top;\n",
       "    }\n",
       "\n",
       "    .dataframe thead th {\n",
       "        text-align: right;\n",
       "    }\n",
       "</style>\n",
       "<table border=\"1\" class=\"dataframe\">\n",
       "  <thead>\n",
       "    <tr style=\"text-align: right;\">\n",
       "      <th></th>\n",
       "      <th>x</th>\n",
       "      <th>y</th>\n",
       "      <th>likelihood</th>\n",
       "    </tr>\n",
       "  </thead>\n",
       "  <tbody>\n",
       "    <tr>\n",
       "      <th>0</th>\n",
       "      <td>1414.084106</td>\n",
       "      <td>-8.867054</td>\n",
       "      <td>0.999991</td>\n",
       "    </tr>\n",
       "    <tr>\n",
       "      <th>1</th>\n",
       "      <td>1414.846558</td>\n",
       "      <td>-8.399869</td>\n",
       "      <td>0.999991</td>\n",
       "    </tr>\n",
       "    <tr>\n",
       "      <th>2</th>\n",
       "      <td>1414.486938</td>\n",
       "      <td>-9.196183</td>\n",
       "      <td>0.999984</td>\n",
       "    </tr>\n",
       "    <tr>\n",
       "      <th>3</th>\n",
       "      <td>1416.160156</td>\n",
       "      <td>-9.101525</td>\n",
       "      <td>0.999877</td>\n",
       "    </tr>\n",
       "    <tr>\n",
       "      <th>4</th>\n",
       "      <td>1314.677490</td>\n",
       "      <td>-26.173495</td>\n",
       "      <td>0.999878</td>\n",
       "    </tr>\n",
       "  </tbody>\n",
       "</table>\n",
       "</div>"
      ],
      "text/plain": [
       "             x          y  likelihood\n",
       "0  1414.084106  -8.867054    0.999991\n",
       "1  1414.846558  -8.399869    0.999991\n",
       "2  1414.486938  -9.196183    0.999984\n",
       "3  1416.160156  -9.101525    0.999877\n",
       "4  1314.677490 -26.173495    0.999878"
      ]
     },
     "execution_count": 8,
     "metadata": {},
     "output_type": "execute_result"
    }
   ],
   "source": [
    "front.head()"
   ]
  },
  {
   "cell_type": "code",
   "execution_count": 9,
   "metadata": {},
   "outputs": [],
   "source": [
    "dbsc = DBSCAN(eps = 2, min_samples = 3).fit(front)"
   ]
  },
  {
   "cell_type": "code",
   "execution_count": 11,
   "metadata": {},
   "outputs": [],
   "source": [
    "labels = dbsc.labels_\n",
    "core_samples = np.zeros_like(labels, dtype = bool)\n",
    "core_samples[dbsc.core_sample_indices_] = True"
   ]
  },
  {
   "cell_type": "code",
   "execution_count": 12,
   "metadata": {},
   "outputs": [
    {
     "data": {
      "text/plain": [
       "array([ True,  True,  True,  True, False, False, False, False, False,\n",
       "       False, False, False, False, False, False,  True, False, False,\n",
       "       False,  True,  True,  True, False, False, False, False, False,\n",
       "       False, False, False, False, False, False, False, False, False,\n",
       "       False, False, False, False, False, False, False, False,  True,\n",
       "        True,  True,  True,  True,  True,  True,  True, False, False,\n",
       "       False, False, False, False])"
      ]
     },
     "execution_count": 12,
     "metadata": {},
     "output_type": "execute_result"
    }
   ],
   "source": [
    "core_samples"
   ]
  },
  {
   "cell_type": "code",
   "execution_count": null,
   "metadata": {},
   "outputs": [],
   "source": []
  }
 ],
 "metadata": {
  "kernelspec": {
   "display_name": "Python 3",
   "language": "python",
   "name": "python3"
  },
  "language_info": {
   "codemirror_mode": {
    "name": "ipython",
    "version": 3
   },
   "file_extension": ".py",
   "mimetype": "text/x-python",
   "name": "python",
   "nbconvert_exporter": "python",
   "pygments_lexer": "ipython3",
   "version": "3.7.7"
  }
 },
 "nbformat": 4,
 "nbformat_minor": 2
}
