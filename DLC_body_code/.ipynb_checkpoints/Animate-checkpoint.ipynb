{
 "cells": [
  {
   "cell_type": "code",
   "execution_count": 1,
   "metadata": {},
   "outputs": [],
   "source": [
    "#must deactivate dlc-ubuntu-GPU environment before running this. installing seaborn on that env somehow makes dlc not work\n",
    "import h5py\n",
    "import pandas as pd\n",
    "import matplotlib\n",
    "import matplotlib.pyplot as plt\n",
    "import numpy as np\n",
    "import seaborn as sns"
   ]
  },
  {
   "cell_type": "code",
   "execution_count": 43,
   "metadata": {},
   "outputs": [],
   "source": [
    "#start with the video for undergrad lab meeting\n",
    "path ='/home/ml/Documents/videos_for_analysis_2/16-810/MC37_11-06-2019_R4_crossing8_patternA_light2DLC_resnet101_LadderWalkFeb13shuffle1_1030000.h5'"
   ]
  },
  {
   "cell_type": "code",
   "execution_count": 44,
   "metadata": {},
   "outputs": [],
   "source": [
    "df = pd.read_hdf(path)"
   ]
  },
  {
   "cell_type": "code",
   "execution_count": 45,
   "metadata": {},
   "outputs": [
    {
     "data": {
      "text/html": [
       "<div>\n",
       "<style scoped>\n",
       "    .dataframe tbody tr th:only-of-type {\n",
       "        vertical-align: middle;\n",
       "    }\n",
       "\n",
       "    .dataframe tbody tr th {\n",
       "        vertical-align: top;\n",
       "    }\n",
       "\n",
       "    .dataframe thead tr th {\n",
       "        text-align: left;\n",
       "    }\n",
       "</style>\n",
       "<table border=\"1\" class=\"dataframe\">\n",
       "  <thead>\n",
       "    <tr>\n",
       "      <th>scorer</th>\n",
       "      <th colspan=\"21\" halign=\"left\">DLC_resnet101_LadderWalkFeb13shuffle1_1030000</th>\n",
       "    </tr>\n",
       "    <tr>\n",
       "      <th>bodyparts</th>\n",
       "      <th colspan=\"3\" halign=\"left\">nose</th>\n",
       "      <th colspan=\"3\" halign=\"left\">right eye</th>\n",
       "      <th colspan=\"3\" halign=\"left\">left eye</th>\n",
       "      <th>shoulder</th>\n",
       "      <th>...</th>\n",
       "      <th>right toes</th>\n",
       "      <th colspan=\"3\" halign=\"left\">left ankle</th>\n",
       "      <th colspan=\"3\" halign=\"left\">left toes</th>\n",
       "      <th colspan=\"3\" halign=\"left\">base of tail</th>\n",
       "    </tr>\n",
       "    <tr>\n",
       "      <th>coords</th>\n",
       "      <th>x</th>\n",
       "      <th>y</th>\n",
       "      <th>likelihood</th>\n",
       "      <th>x</th>\n",
       "      <th>y</th>\n",
       "      <th>likelihood</th>\n",
       "      <th>x</th>\n",
       "      <th>y</th>\n",
       "      <th>likelihood</th>\n",
       "      <th>x</th>\n",
       "      <th>...</th>\n",
       "      <th>likelihood</th>\n",
       "      <th>x</th>\n",
       "      <th>y</th>\n",
       "      <th>likelihood</th>\n",
       "      <th>x</th>\n",
       "      <th>y</th>\n",
       "      <th>likelihood</th>\n",
       "      <th>x</th>\n",
       "      <th>y</th>\n",
       "      <th>likelihood</th>\n",
       "    </tr>\n",
       "  </thead>\n",
       "  <tbody>\n",
       "    <tr>\n",
       "      <th>0</th>\n",
       "      <td>613.479675</td>\n",
       "      <td>623.224854</td>\n",
       "      <td>1.000000</td>\n",
       "      <td>579.978455</td>\n",
       "      <td>587.447510</td>\n",
       "      <td>0.999994</td>\n",
       "      <td>235.525528</td>\n",
       "      <td>580.433777</td>\n",
       "      <td>0.009194</td>\n",
       "      <td>275.082733</td>\n",
       "      <td>...</td>\n",
       "      <td>0.971103</td>\n",
       "      <td>266.109711</td>\n",
       "      <td>639.055603</td>\n",
       "      <td>0.155718</td>\n",
       "      <td>246.100739</td>\n",
       "      <td>631.442383</td>\n",
       "      <td>0.176402</td>\n",
       "      <td>227.168457</td>\n",
       "      <td>596.369568</td>\n",
       "      <td>1.000000</td>\n",
       "    </tr>\n",
       "    <tr>\n",
       "      <th>1</th>\n",
       "      <td>613.482849</td>\n",
       "      <td>623.179321</td>\n",
       "      <td>1.000000</td>\n",
       "      <td>579.987000</td>\n",
       "      <td>587.453186</td>\n",
       "      <td>0.999994</td>\n",
       "      <td>235.524796</td>\n",
       "      <td>580.464233</td>\n",
       "      <td>0.009204</td>\n",
       "      <td>274.518585</td>\n",
       "      <td>...</td>\n",
       "      <td>0.969984</td>\n",
       "      <td>266.138184</td>\n",
       "      <td>639.013367</td>\n",
       "      <td>0.154662</td>\n",
       "      <td>246.110138</td>\n",
       "      <td>631.395508</td>\n",
       "      <td>0.172610</td>\n",
       "      <td>227.167099</td>\n",
       "      <td>596.386719</td>\n",
       "      <td>1.000000</td>\n",
       "    </tr>\n",
       "    <tr>\n",
       "      <th>2</th>\n",
       "      <td>621.304626</td>\n",
       "      <td>622.867859</td>\n",
       "      <td>0.999999</td>\n",
       "      <td>589.080078</td>\n",
       "      <td>586.812866</td>\n",
       "      <td>0.999969</td>\n",
       "      <td>242.687943</td>\n",
       "      <td>594.799866</td>\n",
       "      <td>0.003393</td>\n",
       "      <td>421.066742</td>\n",
       "      <td>...</td>\n",
       "      <td>0.849183</td>\n",
       "      <td>267.871552</td>\n",
       "      <td>637.039917</td>\n",
       "      <td>0.303192</td>\n",
       "      <td>241.534302</td>\n",
       "      <td>630.487732</td>\n",
       "      <td>0.649372</td>\n",
       "      <td>234.771347</td>\n",
       "      <td>610.280945</td>\n",
       "      <td>0.999995</td>\n",
       "    </tr>\n",
       "    <tr>\n",
       "      <th>3</th>\n",
       "      <td>629.401428</td>\n",
       "      <td>626.065918</td>\n",
       "      <td>1.000000</td>\n",
       "      <td>596.671204</td>\n",
       "      <td>590.079285</td>\n",
       "      <td>0.999995</td>\n",
       "      <td>252.286682</td>\n",
       "      <td>597.367432</td>\n",
       "      <td>0.003256</td>\n",
       "      <td>457.583954</td>\n",
       "      <td>...</td>\n",
       "      <td>0.999289</td>\n",
       "      <td>244.115417</td>\n",
       "      <td>620.701782</td>\n",
       "      <td>0.083027</td>\n",
       "      <td>253.521439</td>\n",
       "      <td>631.374634</td>\n",
       "      <td>0.117666</td>\n",
       "      <td>243.736237</td>\n",
       "      <td>610.834900</td>\n",
       "      <td>0.999957</td>\n",
       "    </tr>\n",
       "    <tr>\n",
       "      <th>4</th>\n",
       "      <td>637.342590</td>\n",
       "      <td>623.704895</td>\n",
       "      <td>0.999999</td>\n",
       "      <td>603.031555</td>\n",
       "      <td>588.788269</td>\n",
       "      <td>0.999962</td>\n",
       "      <td>255.548645</td>\n",
       "      <td>596.461853</td>\n",
       "      <td>0.002241</td>\n",
       "      <td>467.291199</td>\n",
       "      <td>...</td>\n",
       "      <td>0.999984</td>\n",
       "      <td>244.110809</td>\n",
       "      <td>619.200195</td>\n",
       "      <td>0.003149</td>\n",
       "      <td>456.932434</td>\n",
       "      <td>646.484985</td>\n",
       "      <td>0.019368</td>\n",
       "      <td>244.498413</td>\n",
       "      <td>608.989807</td>\n",
       "      <td>0.999503</td>\n",
       "    </tr>\n",
       "    <tr>\n",
       "      <th>...</th>\n",
       "      <td>...</td>\n",
       "      <td>...</td>\n",
       "      <td>...</td>\n",
       "      <td>...</td>\n",
       "      <td>...</td>\n",
       "      <td>...</td>\n",
       "      <td>...</td>\n",
       "      <td>...</td>\n",
       "      <td>...</td>\n",
       "      <td>...</td>\n",
       "      <td>...</td>\n",
       "      <td>...</td>\n",
       "      <td>...</td>\n",
       "      <td>...</td>\n",
       "      <td>...</td>\n",
       "      <td>...</td>\n",
       "      <td>...</td>\n",
       "      <td>...</td>\n",
       "      <td>...</td>\n",
       "      <td>...</td>\n",
       "      <td>...</td>\n",
       "    </tr>\n",
       "    <tr>\n",
       "      <th>128</th>\n",
       "      <td>1677.645630</td>\n",
       "      <td>587.854675</td>\n",
       "      <td>1.000000</td>\n",
       "      <td>1661.204224</td>\n",
       "      <td>550.676880</td>\n",
       "      <td>0.999988</td>\n",
       "      <td>1362.820435</td>\n",
       "      <td>572.184814</td>\n",
       "      <td>0.001521</td>\n",
       "      <td>1577.136475</td>\n",
       "      <td>...</td>\n",
       "      <td>0.999909</td>\n",
       "      <td>1337.990845</td>\n",
       "      <td>612.454773</td>\n",
       "      <td>0.314669</td>\n",
       "      <td>1575.130371</td>\n",
       "      <td>613.885925</td>\n",
       "      <td>0.005793</td>\n",
       "      <td>1353.027588</td>\n",
       "      <td>589.087341</td>\n",
       "      <td>0.999999</td>\n",
       "    </tr>\n",
       "    <tr>\n",
       "      <th>129</th>\n",
       "      <td>1682.476807</td>\n",
       "      <td>587.890625</td>\n",
       "      <td>0.999999</td>\n",
       "      <td>1671.630493</td>\n",
       "      <td>548.958313</td>\n",
       "      <td>0.979049</td>\n",
       "      <td>1366.321655</td>\n",
       "      <td>571.550110</td>\n",
       "      <td>0.001271</td>\n",
       "      <td>1582.965210</td>\n",
       "      <td>...</td>\n",
       "      <td>0.999725</td>\n",
       "      <td>1681.791504</td>\n",
       "      <td>591.682861</td>\n",
       "      <td>0.007211</td>\n",
       "      <td>1543.935425</td>\n",
       "      <td>617.142761</td>\n",
       "      <td>0.004370</td>\n",
       "      <td>1356.773682</td>\n",
       "      <td>588.661438</td>\n",
       "      <td>0.999999</td>\n",
       "    </tr>\n",
       "    <tr>\n",
       "      <th>130</th>\n",
       "      <td>1689.082275</td>\n",
       "      <td>595.203918</td>\n",
       "      <td>0.999999</td>\n",
       "      <td>1681.641724</td>\n",
       "      <td>556.456177</td>\n",
       "      <td>0.997658</td>\n",
       "      <td>1370.803345</td>\n",
       "      <td>571.397827</td>\n",
       "      <td>0.005388</td>\n",
       "      <td>1597.052002</td>\n",
       "      <td>...</td>\n",
       "      <td>0.999919</td>\n",
       "      <td>1682.798950</td>\n",
       "      <td>598.292236</td>\n",
       "      <td>0.003259</td>\n",
       "      <td>1560.885620</td>\n",
       "      <td>615.707397</td>\n",
       "      <td>0.011476</td>\n",
       "      <td>1363.139404</td>\n",
       "      <td>584.421448</td>\n",
       "      <td>1.000000</td>\n",
       "    </tr>\n",
       "    <tr>\n",
       "      <th>131</th>\n",
       "      <td>1700.878540</td>\n",
       "      <td>598.500977</td>\n",
       "      <td>0.999999</td>\n",
       "      <td>1693.373657</td>\n",
       "      <td>562.075928</td>\n",
       "      <td>0.998686</td>\n",
       "      <td>1381.207764</td>\n",
       "      <td>564.434082</td>\n",
       "      <td>0.003234</td>\n",
       "      <td>1606.656372</td>\n",
       "      <td>...</td>\n",
       "      <td>0.999881</td>\n",
       "      <td>1374.937988</td>\n",
       "      <td>606.174011</td>\n",
       "      <td>0.058481</td>\n",
       "      <td>1541.463989</td>\n",
       "      <td>616.619690</td>\n",
       "      <td>0.004947</td>\n",
       "      <td>1375.532227</td>\n",
       "      <td>580.628662</td>\n",
       "      <td>1.000000</td>\n",
       "    </tr>\n",
       "    <tr>\n",
       "      <th>132</th>\n",
       "      <td>1711.329224</td>\n",
       "      <td>594.955872</td>\n",
       "      <td>0.999999</td>\n",
       "      <td>1704.512207</td>\n",
       "      <td>562.161194</td>\n",
       "      <td>0.998589</td>\n",
       "      <td>1393.991699</td>\n",
       "      <td>563.416687</td>\n",
       "      <td>0.003351</td>\n",
       "      <td>1623.646851</td>\n",
       "      <td>...</td>\n",
       "      <td>0.999824</td>\n",
       "      <td>1510.714111</td>\n",
       "      <td>613.859436</td>\n",
       "      <td>0.007434</td>\n",
       "      <td>1542.200317</td>\n",
       "      <td>612.539490</td>\n",
       "      <td>0.087138</td>\n",
       "      <td>1384.694702</td>\n",
       "      <td>580.460266</td>\n",
       "      <td>1.000000</td>\n",
       "    </tr>\n",
       "  </tbody>\n",
       "</table>\n",
       "<p>133 rows × 48 columns</p>\n",
       "</div>"
      ],
      "text/plain": [
       "scorer    DLC_resnet101_LadderWalkFeb13shuffle1_1030000              \\\n",
       "bodyparts                                          nose               \n",
       "coords                                                x           y   \n",
       "0                                            613.479675  623.224854   \n",
       "1                                            613.482849  623.179321   \n",
       "2                                            621.304626  622.867859   \n",
       "3                                            629.401428  626.065918   \n",
       "4                                            637.342590  623.704895   \n",
       "..                                                  ...         ...   \n",
       "128                                         1677.645630  587.854675   \n",
       "129                                         1682.476807  587.890625   \n",
       "130                                         1689.082275  595.203918   \n",
       "131                                         1700.878540  598.500977   \n",
       "132                                         1711.329224  594.955872   \n",
       "\n",
       "scorer                                                                 \\\n",
       "bodyparts               right eye                            left eye   \n",
       "coords    likelihood            x           y likelihood            x   \n",
       "0           1.000000   579.978455  587.447510   0.999994   235.525528   \n",
       "1           1.000000   579.987000  587.453186   0.999994   235.524796   \n",
       "2           0.999999   589.080078  586.812866   0.999969   242.687943   \n",
       "3           1.000000   596.671204  590.079285   0.999995   252.286682   \n",
       "4           0.999999   603.031555  588.788269   0.999962   255.548645   \n",
       "..               ...          ...         ...        ...          ...   \n",
       "128         1.000000  1661.204224  550.676880   0.999988  1362.820435   \n",
       "129         0.999999  1671.630493  548.958313   0.979049  1366.321655   \n",
       "130         0.999999  1681.641724  556.456177   0.997658  1370.803345   \n",
       "131         0.999999  1693.373657  562.075928   0.998686  1381.207764   \n",
       "132         0.999999  1704.512207  562.161194   0.998589  1393.991699   \n",
       "\n",
       "scorer                                         ...                          \\\n",
       "bodyparts                            shoulder  ... right toes   left ankle   \n",
       "coords              y likelihood            x  ... likelihood            x   \n",
       "0          580.433777   0.009194   275.082733  ...   0.971103   266.109711   \n",
       "1          580.464233   0.009204   274.518585  ...   0.969984   266.138184   \n",
       "2          594.799866   0.003393   421.066742  ...   0.849183   267.871552   \n",
       "3          597.367432   0.003256   457.583954  ...   0.999289   244.115417   \n",
       "4          596.461853   0.002241   467.291199  ...   0.999984   244.110809   \n",
       "..                ...        ...          ...  ...        ...          ...   \n",
       "128        572.184814   0.001521  1577.136475  ...   0.999909  1337.990845   \n",
       "129        571.550110   0.001271  1582.965210  ...   0.999725  1681.791504   \n",
       "130        571.397827   0.005388  1597.052002  ...   0.999919  1682.798950   \n",
       "131        564.434082   0.003234  1606.656372  ...   0.999881  1374.937988   \n",
       "132        563.416687   0.003351  1623.646851  ...   0.999824  1510.714111   \n",
       "\n",
       "scorer                                                                \\\n",
       "bodyparts                           left toes                          \n",
       "coords              y likelihood            x           y likelihood   \n",
       "0          639.055603   0.155718   246.100739  631.442383   0.176402   \n",
       "1          639.013367   0.154662   246.110138  631.395508   0.172610   \n",
       "2          637.039917   0.303192   241.534302  630.487732   0.649372   \n",
       "3          620.701782   0.083027   253.521439  631.374634   0.117666   \n",
       "4          619.200195   0.003149   456.932434  646.484985   0.019368   \n",
       "..                ...        ...          ...         ...        ...   \n",
       "128        612.454773   0.314669  1575.130371  613.885925   0.005793   \n",
       "129        591.682861   0.007211  1543.935425  617.142761   0.004370   \n",
       "130        598.292236   0.003259  1560.885620  615.707397   0.011476   \n",
       "131        606.174011   0.058481  1541.463989  616.619690   0.004947   \n",
       "132        613.859436   0.007434  1542.200317  612.539490   0.087138   \n",
       "\n",
       "scorer                                         \n",
       "bodyparts base of tail                         \n",
       "coords               x           y likelihood  \n",
       "0           227.168457  596.369568   1.000000  \n",
       "1           227.167099  596.386719   1.000000  \n",
       "2           234.771347  610.280945   0.999995  \n",
       "3           243.736237  610.834900   0.999957  \n",
       "4           244.498413  608.989807   0.999503  \n",
       "..                 ...         ...        ...  \n",
       "128        1353.027588  589.087341   0.999999  \n",
       "129        1356.773682  588.661438   0.999999  \n",
       "130        1363.139404  584.421448   1.000000  \n",
       "131        1375.532227  580.628662   1.000000  \n",
       "132        1384.694702  580.460266   1.000000  \n",
       "\n",
       "[133 rows x 48 columns]"
      ]
     },
     "execution_count": 45,
     "metadata": {},
     "output_type": "execute_result"
    }
   ],
   "source": [
    "df"
   ]
  },
  {
   "cell_type": "code",
   "execution_count": 46,
   "metadata": {},
   "outputs": [],
   "source": [
    "#frame rate is about 24fps. We want to slow down maybe 6 times, so play back at 4 fps"
   ]
  },
  {
   "cell_type": "code",
   "execution_count": 47,
   "metadata": {},
   "outputs": [],
   "source": [
    "df = df[\"DLC_resnet101_LadderWalkFeb13shuffle1_1030000\"]"
   ]
  },
  {
   "cell_type": "code",
   "execution_count": 48,
   "metadata": {},
   "outputs": [],
   "source": [
    "p=0.2"
   ]
  },
  {
   "cell_type": "code",
   "execution_count": 49,
   "metadata": {},
   "outputs": [],
   "source": [
    "df[\"nose\"] = df[\"nose\"].loc[df[\"nose\"][\"likelihood\"]>p]"
   ]
  },
  {
   "cell_type": "code",
   "execution_count": 50,
   "metadata": {},
   "outputs": [],
   "source": [
    "df[\"right eye\"] = df[\"right eye\"].loc[df[\"right eye\"][\"likelihood\"]>p]\n",
    "df[\"left eye\"] = df[\"left eye\"].loc[df[\"left eye\"][\"likelihood\"]>p]"
   ]
  },
  {
   "cell_type": "code",
   "execution_count": 51,
   "metadata": {},
   "outputs": [],
   "source": [
    "df[\"shoulder\"] = df[\"shoulder\"].loc[df[\"shoulder\"][\"likelihood\"]>p]"
   ]
  },
  {
   "cell_type": "code",
   "execution_count": 52,
   "metadata": {},
   "outputs": [],
   "source": [
    "df[\"right elbow\"] = df[\"right elbow\"].loc[df[\"right elbow\"][\"likelihood\"]>p]\n",
    "df[\"left elbow\"] = df[\"left elbow\"].loc[df[\"left elbow\"][\"likelihood\"]>p]"
   ]
  },
  {
   "cell_type": "code",
   "execution_count": 53,
   "metadata": {},
   "outputs": [],
   "source": [
    "df[\"right wrist\"] = df[\"right wrist\"].loc[df[\"right wrist\"][\"likelihood\"]>p]\n",
    "df[\"left wrist\"] = df[\"left wrist\"].loc[df[\"left wrist\"][\"likelihood\"]>p]"
   ]
  },
  {
   "cell_type": "code",
   "execution_count": 54,
   "metadata": {},
   "outputs": [],
   "source": [
    "df[\"right fingers\"] = df[\"right fingers\"].loc[df[\"right fingers\"][\"likelihood\"]>p]\n",
    "df[\"left fingers\"] = df[\"left fingers\"].loc[df[\"left fingers\"][\"likelihood\"]>p]"
   ]
  },
  {
   "cell_type": "code",
   "execution_count": 55,
   "metadata": {},
   "outputs": [],
   "source": [
    "df[\"hip\"] = df[\"hip\"].loc[df[\"hip\"][\"likelihood\"]>p]"
   ]
  },
  {
   "cell_type": "code",
   "execution_count": 56,
   "metadata": {},
   "outputs": [],
   "source": [
    "df[\"right ankle\"] = df[\"right ankle\"].loc[df[\"right ankle\"][\"likelihood\"]>p]\n",
    "df[\"left ankle\"] = df[\"left ankle\"].loc[df[\"left ankle\"][\"likelihood\"]>p]"
   ]
  },
  {
   "cell_type": "code",
   "execution_count": 57,
   "metadata": {},
   "outputs": [],
   "source": [
    "df[\"right toes\"] = df[\"right toes\"].loc[df[\"right toes\"][\"likelihood\"]>p]\n",
    "df[\"left toes\"] = df[\"left toes\"].loc[df[\"left toes\"][\"likelihood\"]>p]"
   ]
  },
  {
   "cell_type": "code",
   "execution_count": 58,
   "metadata": {},
   "outputs": [],
   "source": [
    "df[\"base of tail\"] = df[\"base of tail\"].loc[df[\"base of tail\"][\"likelihood\"]>p]"
   ]
  },
  {
   "cell_type": "code",
   "execution_count": 59,
   "metadata": {},
   "outputs": [],
   "source": [
    "df = df.fillna(0)\n",
    "#only for animation purposes. don't actually use this for analysis"
   ]
  },
  {
   "cell_type": "code",
   "execution_count": 60,
   "metadata": {
    "scrolled": true
   },
   "outputs": [
    {
     "name": "stdout",
     "output_type": "stream",
     "text": [
      "0\n",
      "1\n",
      "2\n",
      "3\n",
      "4\n",
      "5\n",
      "6\n",
      "7\n",
      "8\n",
      "9\n",
      "10\n",
      "11\n",
      "12\n",
      "13\n",
      "14\n",
      "15\n",
      "16\n",
      "17\n",
      "18\n",
      "19\n",
      "20\n",
      "21\n",
      "22\n",
      "23\n",
      "24\n",
      "25\n",
      "26\n",
      "27\n",
      "28\n",
      "29\n",
      "30\n",
      "31\n",
      "32\n",
      "33\n",
      "34\n",
      "35\n",
      "36\n",
      "37\n",
      "38\n",
      "39\n",
      "40\n",
      "41\n",
      "42\n",
      "43\n",
      "44\n",
      "45\n",
      "46\n",
      "47\n",
      "48\n",
      "49\n",
      "50\n",
      "51\n",
      "52\n",
      "53\n",
      "54\n",
      "55\n",
      "56\n",
      "57\n",
      "58\n",
      "59\n",
      "60\n",
      "61\n",
      "62\n",
      "63\n",
      "64\n",
      "65\n",
      "66\n",
      "67\n",
      "68\n",
      "69\n",
      "70\n",
      "71\n",
      "72\n",
      "73\n",
      "74\n",
      "75\n",
      "76\n",
      "77\n",
      "78\n",
      "79\n",
      "80\n",
      "81\n",
      "82\n",
      "83\n",
      "84\n",
      "85\n",
      "86\n",
      "87\n",
      "88\n",
      "89\n",
      "90\n",
      "91\n",
      "92\n",
      "93\n",
      "94\n",
      "95\n",
      "96\n",
      "97\n",
      "98\n",
      "99\n",
      "100\n",
      "101\n",
      "102\n",
      "103\n",
      "104\n",
      "105\n",
      "106\n",
      "107\n",
      "108\n",
      "109\n",
      "110\n",
      "111\n",
      "112\n",
      "113\n",
      "114\n",
      "115\n",
      "116\n",
      "117\n",
      "118\n",
      "119\n",
      "120\n",
      "121\n",
      "122\n",
      "123\n",
      "124\n",
      "125\n",
      "126\n",
      "127\n",
      "128\n",
      "129\n",
      "130\n",
      "131\n",
      "132\n"
     ]
    }
   ],
   "source": [
    "#plt.rcParams['figure.figsize'] = 20, 34\n",
    "plt.rcParams['image.cmap'] = 'plasma'\n",
    "for i in range(0,len(df)):\n",
    "    print(i)\n",
    "    fig = plt.figure(figsize=(17,10), dpi=100)\n",
    "    plt.scatter(df['nose']['x'][i], df['nose']['y'][i],label=\"Nose\")\n",
    "    plt.text(df['nose']['x'][i]+0.02, df['nose']['y'][i]+0.02,\"Nose\")\n",
    "    plt.scatter(df['right eye']['x'][i], df['right eye']['y'][i],label=\"Right Eye\")\n",
    "    plt.text(df['right eye']['x'][i]+0.02, df['right eye']['y'][i]+0.02,\"Right Eye\")\n",
    "    #plt.scatter(df['left eye']['x'][i], df['left eye']['y'][i],label=\"Left Eye\")\n",
    "    plt.scatter(df['shoulder']['x'][i], df['shoulder']['y'][i],label=\"Shoulder\")\n",
    "    plt.text(df['shoulder']['x'][i]+0.02, df['shoulder']['y'][i]+0.02,\"Shoulder\")\n",
    "    #plt.scatter(df['right elbow']['x'][i], df['right elbow']['y'][i],label=\"Right Elbow\")\n",
    "    #plt.scatter(df['right wrist']['x'][i], df['right wrist']['y'][i],label=\"Right Wrist\")\n",
    "    plt.scatter(df['right fingers']['x'][i], df['right fingers']['y'][i],label=\"Right Fingers\")\n",
    "    plt.text(df['right fingers']['x'][i]+0.02, df['right fingers']['y'][i]+0.02,\"Right Fingers\")\n",
    "    #plt.scatter(df['left elbow']['x'][i], df['left elbow']['y'][i],label=\"Left Elbow\")\n",
    "    #plt.scatter(df['left wrist']['x'][i], df['left wrist']['y'][i],label=\"Left Wrist\")\n",
    "    plt.scatter(df['left fingers']['x'][i], df['left fingers']['y'][i],label=\"Left Fingers\")\n",
    "    plt.text(df['left fingers']['x'][i]+0.02, df['left fingers']['y'][i]+0.02,\"Left Fingers\")\n",
    "    plt.scatter(df['hip']['x'][i], df['hip']['y'][i],label=\"Hip\")\n",
    "    plt.text(df['hip']['x'][i]+0.02, df['hip']['y'][i]+0.02,\"Hip\")\n",
    "    #plt.scatter(df['right ankle']['x'][i], df['right ankle']['y'][i],label=\"Right Ankle\")\n",
    "    plt.scatter(df['right toes']['x'][i], df['right toes']['y'][i],label=\"Right Toes\")\n",
    "    plt.text(df['right toes']['x'][i]+0.02, df['right toes']['y'][i]+0.02,\"Right Toes\")\n",
    "    #plt.scatter(df['left ankle']['x'][i], df['left ankle']['y'][i],label=\"Left Ankle\")\n",
    "    plt.scatter(df['left toes']['x'][i], df['left toes']['y'][i],label=\"Left Toes\")\n",
    "    plt.text(df['left toes']['x'][i]+0.02, df['left toes']['y'][i]+0.02,\"Left Toes\")\n",
    "    plt.scatter(df['base of tail']['x'][i], df['base of tail']['y'][i],label=\"Base of Tail\")\n",
    "    plt.text(df['base of tail']['x'][i]+0.02, df['base of tail']['y'][i]+0.02,\"Base of Tail\")\n",
    "    plt.xlim(0, 1920)\n",
    "    plt.ylim(400, 800)\n",
    "    plt.gca().invert_yaxis()\n",
    "    #plt.legend()\n",
    "    filename='step'+str(i).zfill(3)+'.png'\n",
    "    plt.savefig('/home/ml/Documents/animation_for_lab_meeting/'+filename)\n",
    "    plt.close()"
   ]
  },
  {
   "cell_type": "code",
   "execution_count": 74,
   "metadata": {},
   "outputs": [],
   "source": [
    "path2 = \"/home/ml/Documents/TADSS_Videos/MC71/cut/dlc_output_16-810/MC71_6-4-19_R1_crossing1_patternD_light1_DLC_resnet101_LadderWalkFeb13shuffle1_1030000.h5\"\n",
    "df = pd.read_hdf(path2) "
   ]
  },
  {
   "cell_type": "code",
   "execution_count": 75,
   "metadata": {},
   "outputs": [],
   "source": [
    "peaks = pd.read_csv(\"/home/ml/Documents/TADSS_Videos/MC71/peaks_6-4-19_R1.csv\")"
   ]
  },
  {
   "cell_type": "code",
   "execution_count": 76,
   "metadata": {
    "scrolled": true
   },
   "outputs": [],
   "source": [
    "df = df[\"DLC_resnet101_LadderWalkFeb13shuffle1_1030000\"]\n",
    "p=0.1\n",
    "df[\"nose\"] = df[\"nose\"].loc[df[\"nose\"][\"likelihood\"]>p]\n",
    "\n",
    "df[\"right eye\"] = df[\"right eye\"].loc[df[\"right eye\"][\"likelihood\"]>p]\n",
    "df[\"left eye\"] = df[\"left eye\"].loc[df[\"left eye\"][\"likelihood\"]>p]\n",
    "\n",
    "df[\"shoulder\"] = df[\"shoulder\"].loc[df[\"shoulder\"][\"likelihood\"]>p]\n",
    "\n",
    "df[\"right elbow\"] = df[\"right elbow\"].loc[df[\"right elbow\"][\"likelihood\"]>p]\n",
    "df[\"left elbow\"] = df[\"left elbow\"].loc[df[\"left elbow\"][\"likelihood\"]>p]\n",
    "\n",
    "df[\"right wrist\"] = df[\"right wrist\"].loc[df[\"right wrist\"][\"likelihood\"]>p]\n",
    "df[\"left wrist\"] = df[\"left wrist\"].loc[df[\"left wrist\"][\"likelihood\"]>p]\n",
    "\n",
    "df[\"right fingers\"] = df[\"right fingers\"].loc[df[\"right fingers\"][\"likelihood\"]>p]\n",
    "df[\"left fingers\"] = df[\"left fingers\"].loc[df[\"left fingers\"][\"likelihood\"]>p]\n",
    "\n",
    "df[\"hip\"] = df[\"hip\"].loc[df[\"hip\"][\"likelihood\"]>p]\n",
    "\n",
    "df[\"right ankle\"] = df[\"right ankle\"].loc[df[\"right ankle\"][\"likelihood\"]>p]\n",
    "df[\"left ankle\"] = df[\"left ankle\"].loc[df[\"left ankle\"][\"likelihood\"]>p]\n",
    "\n",
    "df[\"right toes\"] = df[\"right toes\"].loc[df[\"right toes\"][\"likelihood\"]>p]\n",
    "df[\"left toes\"] = df[\"left toes\"].loc[df[\"left toes\"][\"likelihood\"]>p]\n",
    "\n",
    "df[\"base of tail\"] = df[\"base of tail\"].loc[df[\"base of tail\"][\"likelihood\"]>p]\n",
    "\n",
    "#df = df.fillna(0)\n",
    "#only for animation purposes. don't actually use this for analysis"
   ]
  },
  {
   "cell_type": "code",
   "execution_count": 78,
   "metadata": {
    "scrolled": true
   },
   "outputs": [
    {
     "name": "stderr",
     "output_type": "stream",
     "text": [
      "posx and posy should be finite values\n",
      "posx and posy should be finite values\n"
     ]
    },
    {
     "name": "stdout",
     "output_type": "stream",
     "text": [
      "0\n"
     ]
    },
    {
     "name": "stderr",
     "output_type": "stream",
     "text": [
      "posx and posy should be finite values\n",
      "posx and posy should be finite values\n",
      "posx and posy should be finite values\n",
      "posx and posy should be finite values\n"
     ]
    },
    {
     "name": "stdout",
     "output_type": "stream",
     "text": [
      "1\n"
     ]
    },
    {
     "name": "stderr",
     "output_type": "stream",
     "text": [
      "posx and posy should be finite values\n",
      "posx and posy should be finite values\n",
      "posx and posy should be finite values\n",
      "posx and posy should be finite values\n"
     ]
    },
    {
     "name": "stdout",
     "output_type": "stream",
     "text": [
      "2\n"
     ]
    },
    {
     "name": "stderr",
     "output_type": "stream",
     "text": [
      "posx and posy should be finite values\n",
      "posx and posy should be finite values\n"
     ]
    },
    {
     "name": "stdout",
     "output_type": "stream",
     "text": [
      "3\n"
     ]
    },
    {
     "name": "stderr",
     "output_type": "stream",
     "text": [
      "posx and posy should be finite values\n",
      "posx and posy should be finite values\n"
     ]
    },
    {
     "name": "stdout",
     "output_type": "stream",
     "text": [
      "4\n"
     ]
    },
    {
     "name": "stderr",
     "output_type": "stream",
     "text": [
      "posx and posy should be finite values\n",
      "posx and posy should be finite values\n",
      "posx and posy should be finite values\n",
      "posx and posy should be finite values\n",
      "posx and posy should be finite values\n"
     ]
    },
    {
     "name": "stdout",
     "output_type": "stream",
     "text": [
      "5\n"
     ]
    },
    {
     "name": "stderr",
     "output_type": "stream",
     "text": [
      "posx and posy should be finite values\n",
      "posx and posy should be finite values\n",
      "posx and posy should be finite values\n",
      "posx and posy should be finite values\n",
      "posx and posy should be finite values\n"
     ]
    },
    {
     "name": "stdout",
     "output_type": "stream",
     "text": [
      "6\n"
     ]
    },
    {
     "name": "stderr",
     "output_type": "stream",
     "text": [
      "posx and posy should be finite values\n",
      "posx and posy should be finite values\n",
      "posx and posy should be finite values\n"
     ]
    },
    {
     "name": "stdout",
     "output_type": "stream",
     "text": [
      "7\n"
     ]
    },
    {
     "name": "stderr",
     "output_type": "stream",
     "text": [
      "posx and posy should be finite values\n"
     ]
    },
    {
     "name": "stdout",
     "output_type": "stream",
     "text": [
      "8\n",
      "9\n",
      "10\n",
      "11\n",
      "12\n",
      "13\n",
      "14\n",
      "15\n",
      "16\n"
     ]
    },
    {
     "name": "stderr",
     "output_type": "stream",
     "text": [
      "posx and posy should be finite values\n"
     ]
    },
    {
     "name": "stdout",
     "output_type": "stream",
     "text": [
      "17\n"
     ]
    },
    {
     "name": "stderr",
     "output_type": "stream",
     "text": [
      "posx and posy should be finite values\n",
      "posx and posy should be finite values\n"
     ]
    },
    {
     "name": "stdout",
     "output_type": "stream",
     "text": [
      "18\n"
     ]
    },
    {
     "name": "stderr",
     "output_type": "stream",
     "text": [
      "posx and posy should be finite values\n"
     ]
    },
    {
     "name": "stdout",
     "output_type": "stream",
     "text": [
      "19\n"
     ]
    },
    {
     "name": "stderr",
     "output_type": "stream",
     "text": [
      "posx and posy should be finite values\n",
      "posx and posy should be finite values\n",
      "posx and posy should be finite values\n",
      "posx and posy should be finite values\n",
      "posx and posy should be finite values\n"
     ]
    },
    {
     "name": "stdout",
     "output_type": "stream",
     "text": [
      "20\n"
     ]
    },
    {
     "name": "stderr",
     "output_type": "stream",
     "text": [
      "posx and posy should be finite values\n",
      "posx and posy should be finite values\n",
      "posx and posy should be finite values\n",
      "posx and posy should be finite values\n",
      "posx and posy should be finite values\n",
      "posx and posy should be finite values\n",
      "posx and posy should be finite values\n"
     ]
    },
    {
     "name": "stdout",
     "output_type": "stream",
     "text": [
      "21\n"
     ]
    },
    {
     "name": "stderr",
     "output_type": "stream",
     "text": [
      "posx and posy should be finite values\n",
      "posx and posy should be finite values\n",
      "posx and posy should be finite values\n",
      "posx and posy should be finite values\n",
      "posx and posy should be finite values\n",
      "posx and posy should be finite values\n"
     ]
    },
    {
     "name": "stdout",
     "output_type": "stream",
     "text": [
      "22\n"
     ]
    },
    {
     "name": "stderr",
     "output_type": "stream",
     "text": [
      "posx and posy should be finite values\n",
      "posx and posy should be finite values\n",
      "posx and posy should be finite values\n",
      "posx and posy should be finite values\n",
      "posx and posy should be finite values\n"
     ]
    },
    {
     "name": "stdout",
     "output_type": "stream",
     "text": [
      "23\n"
     ]
    },
    {
     "name": "stderr",
     "output_type": "stream",
     "text": [
      "posx and posy should be finite values\n",
      "posx and posy should be finite values\n",
      "posx and posy should be finite values\n",
      "posx and posy should be finite values\n",
      "posx and posy should be finite values\n"
     ]
    },
    {
     "name": "stdout",
     "output_type": "stream",
     "text": [
      "24\n"
     ]
    },
    {
     "name": "stderr",
     "output_type": "stream",
     "text": [
      "posx and posy should be finite values\n",
      "posx and posy should be finite values\n",
      "posx and posy should be finite values\n"
     ]
    },
    {
     "name": "stdout",
     "output_type": "stream",
     "text": [
      "25\n"
     ]
    },
    {
     "name": "stderr",
     "output_type": "stream",
     "text": [
      "posx and posy should be finite values\n",
      "posx and posy should be finite values\n",
      "posx and posy should be finite values\n"
     ]
    },
    {
     "name": "stdout",
     "output_type": "stream",
     "text": [
      "26\n"
     ]
    },
    {
     "name": "stderr",
     "output_type": "stream",
     "text": [
      "posx and posy should be finite values\n",
      "posx and posy should be finite values\n",
      "posx and posy should be finite values\n",
      "posx and posy should be finite values\n",
      "posx and posy should be finite values\n"
     ]
    },
    {
     "name": "stdout",
     "output_type": "stream",
     "text": [
      "27\n"
     ]
    },
    {
     "name": "stderr",
     "output_type": "stream",
     "text": [
      "posx and posy should be finite values\n",
      "posx and posy should be finite values\n",
      "posx and posy should be finite values\n",
      "posx and posy should be finite values\n",
      "posx and posy should be finite values\n"
     ]
    },
    {
     "name": "stdout",
     "output_type": "stream",
     "text": [
      "28\n"
     ]
    },
    {
     "name": "stderr",
     "output_type": "stream",
     "text": [
      "posx and posy should be finite values\n",
      "posx and posy should be finite values\n",
      "posx and posy should be finite values\n",
      "posx and posy should be finite values\n",
      "posx and posy should be finite values\n",
      "posx and posy should be finite values\n"
     ]
    },
    {
     "name": "stdout",
     "output_type": "stream",
     "text": [
      "29\n"
     ]
    },
    {
     "name": "stderr",
     "output_type": "stream",
     "text": [
      "posx and posy should be finite values\n",
      "posx and posy should be finite values\n",
      "posx and posy should be finite values\n",
      "posx and posy should be finite values\n",
      "posx and posy should be finite values\n",
      "posx and posy should be finite values\n",
      "posx and posy should be finite values\n"
     ]
    },
    {
     "name": "stdout",
     "output_type": "stream",
     "text": [
      "30\n"
     ]
    },
    {
     "name": "stderr",
     "output_type": "stream",
     "text": [
      "posx and posy should be finite values\n",
      "posx and posy should be finite values\n",
      "posx and posy should be finite values\n",
      "posx and posy should be finite values\n"
     ]
    },
    {
     "name": "stdout",
     "output_type": "stream",
     "text": [
      "31\n"
     ]
    },
    {
     "name": "stderr",
     "output_type": "stream",
     "text": [
      "posx and posy should be finite values\n",
      "posx and posy should be finite values\n"
     ]
    },
    {
     "name": "stdout",
     "output_type": "stream",
     "text": [
      "32\n"
     ]
    },
    {
     "name": "stderr",
     "output_type": "stream",
     "text": [
      "posx and posy should be finite values\n"
     ]
    },
    {
     "name": "stdout",
     "output_type": "stream",
     "text": [
      "33\n"
     ]
    },
    {
     "name": "stderr",
     "output_type": "stream",
     "text": [
      "posx and posy should be finite values\n"
     ]
    },
    {
     "name": "stdout",
     "output_type": "stream",
     "text": [
      "34\n"
     ]
    },
    {
     "name": "stderr",
     "output_type": "stream",
     "text": [
      "posx and posy should be finite values\n"
     ]
    },
    {
     "name": "stdout",
     "output_type": "stream",
     "text": [
      "35\n"
     ]
    },
    {
     "name": "stderr",
     "output_type": "stream",
     "text": [
      "posx and posy should be finite values\n"
     ]
    },
    {
     "name": "stdout",
     "output_type": "stream",
     "text": [
      "36\n"
     ]
    },
    {
     "name": "stderr",
     "output_type": "stream",
     "text": [
      "posx and posy should be finite values\n",
      "posx and posy should be finite values\n"
     ]
    },
    {
     "name": "stdout",
     "output_type": "stream",
     "text": [
      "37\n"
     ]
    },
    {
     "name": "stderr",
     "output_type": "stream",
     "text": [
      "posx and posy should be finite values\n",
      "posx and posy should be finite values\n",
      "posx and posy should be finite values\n"
     ]
    },
    {
     "name": "stdout",
     "output_type": "stream",
     "text": [
      "38\n"
     ]
    },
    {
     "name": "stderr",
     "output_type": "stream",
     "text": [
      "posx and posy should be finite values\n",
      "posx and posy should be finite values\n",
      "posx and posy should be finite values\n",
      "posx and posy should be finite values\n"
     ]
    },
    {
     "name": "stdout",
     "output_type": "stream",
     "text": [
      "39\n"
     ]
    },
    {
     "name": "stderr",
     "output_type": "stream",
     "text": [
      "posx and posy should be finite values\n",
      "posx and posy should be finite values\n",
      "posx and posy should be finite values\n",
      "posx and posy should be finite values\n",
      "posx and posy should be finite values\n"
     ]
    },
    {
     "name": "stdout",
     "output_type": "stream",
     "text": [
      "40\n"
     ]
    },
    {
     "name": "stderr",
     "output_type": "stream",
     "text": [
      "posx and posy should be finite values\n",
      "posx and posy should be finite values\n",
      "posx and posy should be finite values\n",
      "posx and posy should be finite values\n"
     ]
    },
    {
     "name": "stdout",
     "output_type": "stream",
     "text": [
      "41\n"
     ]
    },
    {
     "name": "stderr",
     "output_type": "stream",
     "text": [
      "posx and posy should be finite values\n",
      "posx and posy should be finite values\n"
     ]
    },
    {
     "name": "stdout",
     "output_type": "stream",
     "text": [
      "42\n"
     ]
    },
    {
     "name": "stderr",
     "output_type": "stream",
     "text": [
      "posx and posy should be finite values\n",
      "posx and posy should be finite values\n",
      "posx and posy should be finite values\n"
     ]
    },
    {
     "name": "stdout",
     "output_type": "stream",
     "text": [
      "43\n"
     ]
    },
    {
     "name": "stderr",
     "output_type": "stream",
     "text": [
      "posx and posy should be finite values\n",
      "posx and posy should be finite values\n",
      "posx and posy should be finite values\n"
     ]
    },
    {
     "name": "stdout",
     "output_type": "stream",
     "text": [
      "44\n"
     ]
    },
    {
     "name": "stderr",
     "output_type": "stream",
     "text": [
      "posx and posy should be finite values\n"
     ]
    },
    {
     "name": "stdout",
     "output_type": "stream",
     "text": [
      "45\n",
      "46\n"
     ]
    },
    {
     "name": "stderr",
     "output_type": "stream",
     "text": [
      "posx and posy should be finite values\n",
      "posx and posy should be finite values\n"
     ]
    },
    {
     "name": "stdout",
     "output_type": "stream",
     "text": [
      "47\n"
     ]
    },
    {
     "name": "stderr",
     "output_type": "stream",
     "text": [
      "posx and posy should be finite values\n",
      "posx and posy should be finite values\n"
     ]
    },
    {
     "name": "stdout",
     "output_type": "stream",
     "text": [
      "48\n"
     ]
    },
    {
     "name": "stderr",
     "output_type": "stream",
     "text": [
      "posx and posy should be finite values\n",
      "posx and posy should be finite values\n",
      "posx and posy should be finite values\n",
      "posx and posy should be finite values\n",
      "posx and posy should be finite values\n"
     ]
    },
    {
     "name": "stdout",
     "output_type": "stream",
     "text": [
      "49\n"
     ]
    },
    {
     "name": "stderr",
     "output_type": "stream",
     "text": [
      "posx and posy should be finite values\n",
      "posx and posy should be finite values\n",
      "posx and posy should be finite values\n",
      "posx and posy should be finite values\n"
     ]
    },
    {
     "name": "stdout",
     "output_type": "stream",
     "text": [
      "50\n"
     ]
    },
    {
     "name": "stderr",
     "output_type": "stream",
     "text": [
      "posx and posy should be finite values\n",
      "posx and posy should be finite values\n",
      "posx and posy should be finite values\n",
      "posx and posy should be finite values\n",
      "posx and posy should be finite values\n",
      "posx and posy should be finite values\n"
     ]
    },
    {
     "name": "stdout",
     "output_type": "stream",
     "text": [
      "51\n"
     ]
    },
    {
     "name": "stderr",
     "output_type": "stream",
     "text": [
      "posx and posy should be finite values\n",
      "posx and posy should be finite values\n",
      "posx and posy should be finite values\n",
      "posx and posy should be finite values\n",
      "posx and posy should be finite values\n"
     ]
    },
    {
     "name": "stdout",
     "output_type": "stream",
     "text": [
      "52\n"
     ]
    },
    {
     "name": "stderr",
     "output_type": "stream",
     "text": [
      "posx and posy should be finite values\n",
      "posx and posy should be finite values\n",
      "posx and posy should be finite values\n",
      "posx and posy should be finite values\n"
     ]
    },
    {
     "name": "stdout",
     "output_type": "stream",
     "text": [
      "53\n"
     ]
    },
    {
     "name": "stderr",
     "output_type": "stream",
     "text": [
      "posx and posy should be finite values\n",
      "posx and posy should be finite values\n",
      "posx and posy should be finite values\n",
      "posx and posy should be finite values\n",
      "posx and posy should be finite values\n"
     ]
    },
    {
     "name": "stdout",
     "output_type": "stream",
     "text": [
      "54\n"
     ]
    },
    {
     "name": "stderr",
     "output_type": "stream",
     "text": [
      "posx and posy should be finite values\n",
      "posx and posy should be finite values\n",
      "posx and posy should be finite values\n",
      "posx and posy should be finite values\n"
     ]
    },
    {
     "name": "stdout",
     "output_type": "stream",
     "text": [
      "55\n"
     ]
    },
    {
     "name": "stderr",
     "output_type": "stream",
     "text": [
      "posx and posy should be finite values\n",
      "posx and posy should be finite values\n",
      "posx and posy should be finite values\n"
     ]
    },
    {
     "name": "stdout",
     "output_type": "stream",
     "text": [
      "56\n"
     ]
    },
    {
     "name": "stderr",
     "output_type": "stream",
     "text": [
      "posx and posy should be finite values\n",
      "posx and posy should be finite values\n",
      "posx and posy should be finite values\n",
      "posx and posy should be finite values\n"
     ]
    },
    {
     "name": "stdout",
     "output_type": "stream",
     "text": [
      "57\n"
     ]
    },
    {
     "name": "stderr",
     "output_type": "stream",
     "text": [
      "posx and posy should be finite values\n",
      "posx and posy should be finite values\n",
      "posx and posy should be finite values\n"
     ]
    },
    {
     "name": "stdout",
     "output_type": "stream",
     "text": [
      "58\n"
     ]
    },
    {
     "name": "stderr",
     "output_type": "stream",
     "text": [
      "posx and posy should be finite values\n",
      "posx and posy should be finite values\n"
     ]
    },
    {
     "name": "stdout",
     "output_type": "stream",
     "text": [
      "59\n"
     ]
    },
    {
     "name": "stderr",
     "output_type": "stream",
     "text": [
      "posx and posy should be finite values\n",
      "posx and posy should be finite values\n"
     ]
    },
    {
     "name": "stdout",
     "output_type": "stream",
     "text": [
      "60\n"
     ]
    },
    {
     "name": "stderr",
     "output_type": "stream",
     "text": [
      "posx and posy should be finite values\n",
      "posx and posy should be finite values\n"
     ]
    },
    {
     "name": "stdout",
     "output_type": "stream",
     "text": [
      "61\n"
     ]
    },
    {
     "name": "stderr",
     "output_type": "stream",
     "text": [
      "posx and posy should be finite values\n"
     ]
    },
    {
     "name": "stdout",
     "output_type": "stream",
     "text": [
      "62\n"
     ]
    },
    {
     "name": "stderr",
     "output_type": "stream",
     "text": [
      "posx and posy should be finite values\n",
      "posx and posy should be finite values\n"
     ]
    },
    {
     "name": "stdout",
     "output_type": "stream",
     "text": [
      "63\n"
     ]
    },
    {
     "name": "stderr",
     "output_type": "stream",
     "text": [
      "posx and posy should be finite values\n",
      "posx and posy should be finite values\n",
      "posx and posy should be finite values\n",
      "posx and posy should be finite values\n",
      "posx and posy should be finite values\n"
     ]
    },
    {
     "name": "stdout",
     "output_type": "stream",
     "text": [
      "64\n"
     ]
    },
    {
     "name": "stderr",
     "output_type": "stream",
     "text": [
      "posx and posy should be finite values\n",
      "posx and posy should be finite values\n",
      "posx and posy should be finite values\n",
      "posx and posy should be finite values\n",
      "posx and posy should be finite values\n"
     ]
    },
    {
     "name": "stdout",
     "output_type": "stream",
     "text": [
      "65\n"
     ]
    },
    {
     "name": "stderr",
     "output_type": "stream",
     "text": [
      "posx and posy should be finite values\n",
      "posx and posy should be finite values\n",
      "posx and posy should be finite values\n",
      "posx and posy should be finite values\n",
      "posx and posy should be finite values\n"
     ]
    },
    {
     "name": "stdout",
     "output_type": "stream",
     "text": [
      "66\n"
     ]
    },
    {
     "name": "stderr",
     "output_type": "stream",
     "text": [
      "posx and posy should be finite values\n",
      "posx and posy should be finite values\n",
      "posx and posy should be finite values\n",
      "posx and posy should be finite values\n",
      "posx and posy should be finite values\n",
      "posx and posy should be finite values\n"
     ]
    },
    {
     "name": "stdout",
     "output_type": "stream",
     "text": [
      "67\n"
     ]
    },
    {
     "name": "stderr",
     "output_type": "stream",
     "text": [
      "posx and posy should be finite values\n",
      "posx and posy should be finite values\n",
      "posx and posy should be finite values\n"
     ]
    },
    {
     "name": "stdout",
     "output_type": "stream",
     "text": [
      "68\n"
     ]
    },
    {
     "name": "stderr",
     "output_type": "stream",
     "text": [
      "posx and posy should be finite values\n",
      "posx and posy should be finite values\n",
      "posx and posy should be finite values\n",
      "posx and posy should be finite values\n",
      "posx and posy should be finite values\n",
      "posx and posy should be finite values\n",
      "posx and posy should be finite values\n"
     ]
    },
    {
     "name": "stdout",
     "output_type": "stream",
     "text": [
      "69\n"
     ]
    },
    {
     "name": "stderr",
     "output_type": "stream",
     "text": [
      "posx and posy should be finite values\n",
      "posx and posy should be finite values\n",
      "posx and posy should be finite values\n",
      "posx and posy should be finite values\n",
      "posx and posy should be finite values\n"
     ]
    },
    {
     "name": "stdout",
     "output_type": "stream",
     "text": [
      "70\n"
     ]
    },
    {
     "name": "stderr",
     "output_type": "stream",
     "text": [
      "posx and posy should be finite values\n",
      "posx and posy should be finite values\n"
     ]
    },
    {
     "name": "stdout",
     "output_type": "stream",
     "text": [
      "71\n"
     ]
    },
    {
     "name": "stderr",
     "output_type": "stream",
     "text": [
      "posx and posy should be finite values\n"
     ]
    },
    {
     "name": "stdout",
     "output_type": "stream",
     "text": [
      "72\n"
     ]
    },
    {
     "name": "stderr",
     "output_type": "stream",
     "text": [
      "posx and posy should be finite values\n",
      "posx and posy should be finite values\n",
      "posx and posy should be finite values\n",
      "posx and posy should be finite values\n",
      "posx and posy should be finite values\n",
      "posx and posy should be finite values\n"
     ]
    },
    {
     "name": "stdout",
     "output_type": "stream",
     "text": [
      "73\n"
     ]
    },
    {
     "name": "stderr",
     "output_type": "stream",
     "text": [
      "posx and posy should be finite values\n",
      "posx and posy should be finite values\n",
      "posx and posy should be finite values\n",
      "posx and posy should be finite values\n",
      "posx and posy should be finite values\n",
      "posx and posy should be finite values\n",
      "posx and posy should be finite values\n"
     ]
    },
    {
     "name": "stdout",
     "output_type": "stream",
     "text": [
      "74\n"
     ]
    },
    {
     "name": "stderr",
     "output_type": "stream",
     "text": [
      "posx and posy should be finite values\n",
      "posx and posy should be finite values\n",
      "posx and posy should be finite values\n",
      "posx and posy should be finite values\n"
     ]
    },
    {
     "name": "stdout",
     "output_type": "stream",
     "text": [
      "75\n"
     ]
    },
    {
     "name": "stderr",
     "output_type": "stream",
     "text": [
      "posx and posy should be finite values\n",
      "posx and posy should be finite values\n",
      "posx and posy should be finite values\n",
      "posx and posy should be finite values\n"
     ]
    },
    {
     "name": "stdout",
     "output_type": "stream",
     "text": [
      "76\n"
     ]
    },
    {
     "name": "stderr",
     "output_type": "stream",
     "text": [
      "posx and posy should be finite values\n",
      "posx and posy should be finite values\n",
      "posx and posy should be finite values\n"
     ]
    },
    {
     "name": "stdout",
     "output_type": "stream",
     "text": [
      "77\n"
     ]
    },
    {
     "name": "stderr",
     "output_type": "stream",
     "text": [
      "posx and posy should be finite values\n",
      "posx and posy should be finite values\n",
      "posx and posy should be finite values\n"
     ]
    },
    {
     "name": "stdout",
     "output_type": "stream",
     "text": [
      "78\n"
     ]
    },
    {
     "name": "stderr",
     "output_type": "stream",
     "text": [
      "posx and posy should be finite values\n",
      "posx and posy should be finite values\n",
      "posx and posy should be finite values\n",
      "posx and posy should be finite values\n"
     ]
    },
    {
     "name": "stdout",
     "output_type": "stream",
     "text": [
      "79\n"
     ]
    },
    {
     "name": "stderr",
     "output_type": "stream",
     "text": [
      "posx and posy should be finite values\n",
      "posx and posy should be finite values\n",
      "posx and posy should be finite values\n",
      "posx and posy should be finite values\n"
     ]
    },
    {
     "name": "stdout",
     "output_type": "stream",
     "text": [
      "80\n"
     ]
    },
    {
     "name": "stderr",
     "output_type": "stream",
     "text": [
      "posx and posy should be finite values\n",
      "posx and posy should be finite values\n",
      "posx and posy should be finite values\n",
      "posx and posy should be finite values\n"
     ]
    },
    {
     "name": "stdout",
     "output_type": "stream",
     "text": [
      "81\n"
     ]
    },
    {
     "name": "stderr",
     "output_type": "stream",
     "text": [
      "posx and posy should be finite values\n",
      "posx and posy should be finite values\n",
      "posx and posy should be finite values\n",
      "posx and posy should be finite values\n"
     ]
    },
    {
     "name": "stdout",
     "output_type": "stream",
     "text": [
      "82\n"
     ]
    },
    {
     "name": "stderr",
     "output_type": "stream",
     "text": [
      "posx and posy should be finite values\n",
      "posx and posy should be finite values\n",
      "posx and posy should be finite values\n"
     ]
    },
    {
     "name": "stdout",
     "output_type": "stream",
     "text": [
      "83\n"
     ]
    },
    {
     "name": "stderr",
     "output_type": "stream",
     "text": [
      "posx and posy should be finite values\n",
      "posx and posy should be finite values\n",
      "posx and posy should be finite values\n",
      "posx and posy should be finite values\n"
     ]
    },
    {
     "name": "stdout",
     "output_type": "stream",
     "text": [
      "84\n"
     ]
    },
    {
     "name": "stderr",
     "output_type": "stream",
     "text": [
      "posx and posy should be finite values\n",
      "posx and posy should be finite values\n",
      "posx and posy should be finite values\n"
     ]
    },
    {
     "name": "stdout",
     "output_type": "stream",
     "text": [
      "85\n"
     ]
    },
    {
     "name": "stderr",
     "output_type": "stream",
     "text": [
      "posx and posy should be finite values\n"
     ]
    },
    {
     "name": "stdout",
     "output_type": "stream",
     "text": [
      "86\n"
     ]
    },
    {
     "name": "stderr",
     "output_type": "stream",
     "text": [
      "posx and posy should be finite values\n"
     ]
    },
    {
     "name": "stdout",
     "output_type": "stream",
     "text": [
      "87\n",
      "88\n"
     ]
    },
    {
     "name": "stderr",
     "output_type": "stream",
     "text": [
      "posx and posy should be finite values\n"
     ]
    },
    {
     "name": "stdout",
     "output_type": "stream",
     "text": [
      "89\n"
     ]
    },
    {
     "name": "stderr",
     "output_type": "stream",
     "text": [
      "posx and posy should be finite values\n",
      "posx and posy should be finite values\n"
     ]
    },
    {
     "name": "stdout",
     "output_type": "stream",
     "text": [
      "90\n"
     ]
    },
    {
     "name": "stderr",
     "output_type": "stream",
     "text": [
      "posx and posy should be finite values\n",
      "posx and posy should be finite values\n"
     ]
    },
    {
     "name": "stdout",
     "output_type": "stream",
     "text": [
      "91\n"
     ]
    },
    {
     "name": "stderr",
     "output_type": "stream",
     "text": [
      "posx and posy should be finite values\n"
     ]
    },
    {
     "name": "stdout",
     "output_type": "stream",
     "text": [
      "92\n",
      "93\n"
     ]
    },
    {
     "name": "stderr",
     "output_type": "stream",
     "text": [
      "posx and posy should be finite values\n",
      "posx and posy should be finite values\n",
      "posx and posy should be finite values\n"
     ]
    },
    {
     "name": "stdout",
     "output_type": "stream",
     "text": [
      "94\n"
     ]
    },
    {
     "name": "stderr",
     "output_type": "stream",
     "text": [
      "posx and posy should be finite values\n",
      "posx and posy should be finite values\n",
      "posx and posy should be finite values\n",
      "posx and posy should be finite values\n",
      "posx and posy should be finite values\n",
      "posx and posy should be finite values\n",
      "posx and posy should be finite values\n"
     ]
    },
    {
     "name": "stdout",
     "output_type": "stream",
     "text": [
      "95\n"
     ]
    },
    {
     "name": "stderr",
     "output_type": "stream",
     "text": [
      "posx and posy should be finite values\n",
      "posx and posy should be finite values\n",
      "posx and posy should be finite values\n",
      "posx and posy should be finite values\n",
      "posx and posy should be finite values\n",
      "posx and posy should be finite values\n"
     ]
    },
    {
     "name": "stdout",
     "output_type": "stream",
     "text": [
      "96\n"
     ]
    },
    {
     "name": "stderr",
     "output_type": "stream",
     "text": [
      "posx and posy should be finite values\n",
      "posx and posy should be finite values\n"
     ]
    }
   ],
   "source": [
    "#plt.rcParams['figure.figsize'] = 20, 34\n",
    "plt.rcParams['image.cmap'] = 'gist_rainbow'\n",
    "for i in range(0,len(df)):\n",
    "    print(i)\n",
    "    fig = plt.figure(figsize=(17,10), dpi=100)\n",
    "    \n",
    "    plt.title(\"MC 71 6-24-2019 R1 p>0.1 55%tile prominence\")\n",
    "    \n",
    "    plt.scatter(df['nose']['x'][i], df['nose']['y'][i],color='k')\n",
    "    plt.text(df['nose']['x'][i]+0.02, df['nose']['y'][i]+0.02,\"Nose\")\n",
    "    \n",
    "    plt.scatter(df['right eye']['x'][i], df['right eye']['y'][i],color='k')\n",
    "    plt.text(df['right eye']['x'][i]+0.02, df['right eye']['y'][i]+0.02,\"Right Eye\")\n",
    "    \n",
    "    #plt.scatter(df['left eye']['x'][i], df['left eye']['y'][i],color='k')\n",
    "    #plt.text(df['left eye']['x'][i]+0.02, df['left eye']['y'][i]+0.02,\"Left Eye\")\n",
    "    \n",
    "    plt.plot([df['nose']['x'][i],df['right eye']['x'][i],df['shoulder']['x'][i],df['hip']['x'][i],df['base of tail']['x'][i]],[df['nose']['y'][i],df['right eye']['y'][i],df['shoulder']['y'][i],df['hip']['y'][i],df['base of tail']['y'][i]],color='k')\n",
    "    \n",
    "    plt.scatter(df['shoulder']['x'][i], df['shoulder']['y'][i],color='k')\n",
    "    plt.text(df['shoulder']['x'][i]+0.02, df['shoulder']['y'][i]+0.02,\"Shoulder\")\n",
    "    \n",
    "    #plt.plot([df['left eye']['x'][i]],[df['left eye']['y'][i]])\n",
    "    \n",
    "    \n",
    "    plt.scatter(df['right elbow']['x'][i], df['right elbow']['y'][i],color='k')\n",
    "    plt.text(df['right elbow']['x'][i]+0.02, df['right elbow']['y'][i]+0.02,\"RE\")\n",
    "    \n",
    "    \n",
    "    plt.scatter(df['right wrist']['x'][i], df['right wrist']['y'][i],color='C3')\n",
    "    plt.text(df['right wrist']['x'][i]+0.02, df['right wrist']['y'][i]+0.02,\"RW\")\n",
    "    \n",
    "    plt.scatter(df['right fingers']['x'][i], df['right fingers']['y'][i],color=\"C4\")\n",
    "    plt.text(df['right fingers']['x'][i]+0.02, df['right fingers']['y'][i]+0.02,\"RF\")\n",
    "    \n",
    "    plt.plot([df['shoulder']['x'][i],df['right elbow']['x'][i],df['right wrist']['x'][i],df['right fingers']['x'][i]],[df['shoulder']['y'][i],df['right elbow']['y'][i],df['right wrist']['y'][i],df['right fingers']['y'][i]],color='k')\n",
    "    \n",
    "    plt.scatter(peaks[\"peak_fr_w_x\"],peaks[\"peak_fr_w_y\"],label=\"Right Wrist\",color='C3')\n",
    "    plt.scatter(peaks[\"peak_fr_f_x\"],peaks[\"peak_fr_f_y\"],label=\"Right Fingers\",color='C4')\n",
    "    \n",
    "    \n",
    "    plt.scatter(df['left elbow']['x'][i], df['left elbow']['y'][i],color='k')\n",
    "    plt.text(df['left elbow']['x'][i]+0.02, df['left elbow']['y'][i]+0.02,\"LE\")\n",
    "    \n",
    "    \n",
    "    plt.scatter(df['left wrist']['x'][i], df['left wrist']['y'][i],color=\"C5\")\n",
    "    plt.text(df['left wrist']['x'][i]+0.02, df['left wrist']['y'][i]+0.02,\"LW\")\n",
    "    \n",
    "    \n",
    "    plt.scatter(df['left fingers']['x'][i], df['left fingers']['y'][i],color=\"C6\")\n",
    "    plt.text(df['left fingers']['x'][i]+0.02, df['left fingers']['y'][i]+0.02,\"LF\")\n",
    "    \n",
    "    plt.scatter(peaks[\"peak_fl_w_x\"],peaks[\"peak_fl_w_y\"],label=\"Left Wrist\",color=\"C5\")\n",
    "    plt.scatter(peaks[\"peak_fl_f_x\"],peaks[\"peak_fl_f_y\"],label=\"Left Fingers\",color=\"C6\")\n",
    "    \n",
    "    plt.plot([df['shoulder']['x'][i],df['left elbow']['x'][i],df['left wrist']['x'][i],df['left fingers']['x'][i]],[df['shoulder']['y'][i],df['left elbow']['y'][i],df['left wrist']['y'][i],df['left fingers']['y'][i]],color='k')\n",
    "\n",
    "    plt.scatter(df['hip']['x'][i], df['hip']['y'][i],color=\"k\")\n",
    "    plt.text(df['hip']['x'][i]+0.02, df['hip']['y'][i]+0.02,\"Hip\")\n",
    "    \n",
    "    plt.scatter(df['right ankle']['x'][i], df['right ankle']['y'][i],color=\"C8\")\n",
    "    plt.text(df['right ankle']['x'][i]+0.02, df['right ankle']['y'][i]+0.02,\"RA\")\n",
    "    \n",
    "    plt.scatter(df['right toes']['x'][i], df['right toes']['y'][i],color=\"C9\")\n",
    "    plt.text(df['right toes']['x'][i]+0.02, df['right toes']['y'][i]+0.02,\"RT\")\n",
    "    \n",
    "    plt.plot([df['hip']['x'][i],df['right ankle']['x'][i],df['right toes']['x'][i]],[df['hip']['y'][i],df['right ankle']['y'][i],df['right toes']['y'][i]],color='k')\n",
    "    \n",
    "    plt.scatter(peaks[\"peak_br_a_x\"],peaks[\"peak_br_a_y\"],label=\"Right Ankle\",color=\"C8\")\n",
    "    plt.scatter(peaks[\"peak_br_t_x\"],peaks[\"peak_br_t_y\"],label=\"Right Toes\",color=\"C9\")\n",
    "    \n",
    "    plt.scatter(df['left ankle']['x'][i], df['left ankle']['y'][i],color=\"C0\")\n",
    "    plt.text(df['left ankle']['x'][i]+0.02, df['left ankle']['y'][i]+0.02,\"LA\")\n",
    "    \n",
    "    plt.scatter(df['left toes']['x'][i], df['left toes']['y'][i],color=\"C1\")\n",
    "    plt.text(df['left toes']['x'][i]+0.02, df['left toes']['y'][i]+0.02,\"LT\")\n",
    "    \n",
    "    plt.plot([df['hip']['x'][i],df['left ankle']['x'][i],df['left toes']['x'][i]],[df['hip']['y'][i],df['left ankle']['y'][i],df['left toes']['y'][i]],color='k')\n",
    "    \n",
    "    \n",
    "    plt.scatter(peaks[\"peak_bl_a_x\"],peaks[\"peak_bl_a_y\"],label=\"Left Ankle\",color=\"C0\")\n",
    "    plt.scatter(peaks[\"peak_bl_t_x\"],peaks[\"peak_bl_t_y\"],label=\"Left Toes\",color=\"C1\")\n",
    "    \n",
    "    plt.scatter(df['base of tail']['x'][i], df['base of tail']['y'][i],color=\"k\")\n",
    "    plt.text(df['base of tail']['x'][i]+0.02, df['base of tail']['y'][i]+0.02,\"Base of Tail\")\n",
    "\n",
    "    \n",
    "    plt.xlim(0, 1920)\n",
    "    plt.ylim(400, 800)\n",
    "    plt.gca().invert_yaxis()\n",
    "    plt.legend()\n",
    "    filename='step'+str(i).zfill(3)+'.png'\n",
    "    plt.savefig('/home/ml/Documents/71_animation/'+filename)\n",
    "    plt.close()"
   ]
  },
  {
   "cell_type": "code",
   "execution_count": 71,
   "metadata": {},
   "outputs": [
    {
     "data": {
      "text/plain": [
       "(400, 800)"
      ]
     },
     "execution_count": 71,
     "metadata": {},
     "output_type": "execute_result"
    },
    {
     "data": {
      "image/png": "[encoded data removed]",
      "text/plain": [
       "<Figure size 432x288 with 1 Axes>"
      ]
     },
     "metadata": {
      "needs_background": "light"
     },
     "output_type": "display_data"
    }
   ],
   "source": [
    "plt.scatter(peaks[\"peak_bl_t_x\"],peaks[\"peak_bl_t_y\"])\n",
    "plt.xlim(0, 1920)\n",
    "plt.ylim(400, 800)"
   ]
  },
  {
   "cell_type": "code",
   "execution_count": 73,
   "metadata": {},
   "outputs": [
    {
     "data": {
      "text/plain": [
       "(400, 800)"
      ]
     },
     "execution_count": 73,
     "metadata": {},
     "output_type": "execute_result"
    },
    {
     "data": {
      "image/png": "[encoded data removed]",
      "text/plain": [
       "<Figure size 432x288 with 1 Axes>"
      ]
     },
     "metadata": {
      "needs_background": "light"
     },
     "output_type": "display_data"
    }
   ],
   "source": [
    "plt.scatter(df['left toes']['x'],df['left toes']['y'])\n",
    "plt.xlim(0, 1920)\n",
    "plt.ylim(400, 800)"
   ]
  },
  {
   "cell_type": "code",
   "execution_count": null,
   "metadata": {},
   "outputs": [],
   "source": []
  }
 ],
 "metadata": {
  "kernelspec": {
   "display_name": "Python 3",
   "language": "python",
   "name": "python3"
  },
  "language_info": {
   "codemirror_mode": {
    "name": "ipython",
    "version": 3
   },
   "file_extension": ".py",
   "mimetype": "text/x-python",
   "name": "python",
   "nbconvert_exporter": "python",
   "pygments_lexer": "ipython3",
   "version": "3.7.4"
  }
 },
 "nbformat": 4,
 "nbformat_minor": 2
}
